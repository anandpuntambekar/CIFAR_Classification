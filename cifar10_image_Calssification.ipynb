{
 "cells": [
  {
   "cell_type": "markdown",
   "metadata": {},
   "source": [
    "**Important: This notebook will only work with fastai-0.7.x. "
   ]
  },
  {
   "cell_type": "markdown",
   "metadata": {},
   "source": [
    "## CIFAR 10"
   ]
  },
  {
   "cell_type": "code",
   "execution_count": 1,
   "metadata": {},
   "outputs": [],
   "source": [
    "%matplotlib inline\n",
    "%reload_ext autoreload\n",
    "%autoreload 2"
   ]
  },
  {
   "cell_type": "code",
   "execution_count": 2,
   "metadata": {},
   "outputs": [],
   "source": [
    "# ! wget http://pjreddie.com/media/files/cifar.tgz"
   ]
  },
  {
   "cell_type": "code",
   "execution_count": 3,
   "metadata": {},
   "outputs": [
    {
     "data": {
      "text/plain": [
       "'/home/paperspace/fastai/FastAI_2018/fastai-master/courses/dl1'"
      ]
     },
     "execution_count": 3,
     "metadata": {},
     "output_type": "execute_result"
    }
   ],
   "source": [
    "import os\n",
    "os.getcwd()\n",
    "#'/home/paperspace/fastai/FastAI_2018/fastai-master/courses/dl1'"
   ]
  },
  {
   "cell_type": "code",
   "execution_count": 4,
   "metadata": {},
   "outputs": [
    {
     "data": {
      "text/plain": [
       "'/home/paperspace/fastai/FastAI_2018/fastai-master/data/test/dog'"
      ]
     },
     "execution_count": 4,
     "metadata": {},
     "output_type": "execute_result"
    }
   ],
   "source": [
    "os.chdir('/home/paperspace/fastai/FastAI_2018/fastai-master/courses/dl1/data/test/dog')\n",
    "os.getcwd()"
   ]
  },
  {
   "cell_type": "code",
   "execution_count": 5,
   "metadata": {},
   "outputs": [],
   "source": [
    "! rm -f '.ipynb_checkpoints/'"
   ]
  },
  {
   "cell_type": "code",
   "execution_count": 6,
   "metadata": {},
   "outputs": [
    {
     "data": {
      "text/plain": [
       "'/home/paperspace/fastai/FastAI_2018/fastai-master/courses/dl1'"
      ]
     },
     "execution_count": 6,
     "metadata": {},
     "output_type": "execute_result"
    }
   ],
   "source": [
    "os.chdir('/home/paperspace/fastai/FastAI_2018/fastai-master/courses/dl1')\n",
    "os.getcwd()"
   ]
  },
  {
   "cell_type": "code",
   "execution_count": 7,
   "metadata": {},
   "outputs": [],
   "source": [
    "#! tar -xvzf /home/paperspace/fastai/FastAI_2018/fastai-master/courses/dl1/data/cifar.tgz"
   ]
  },
  {
   "cell_type": "code",
   "execution_count": 8,
   "metadata": {},
   "outputs": [],
   "source": [
    "#! sudo mkdir /home/paperspace/fastai/FastAI_2018/fastai-master/courses/dl1/data/cifar/test/airplane\n",
    "#! sudo mkdir /home/paperspace/fastai/FastAI_2018/fastai-master/courses/dl1/data/cifar/test/automobile\n",
    "#! sudo mkdir /home/paperspace/fastai/FastAI_2018/fastai-master/courses/dl1/data/cifar/test/bird\n",
    "#! sudo mkdir /home/paperspace/fastai/FastAI_2018/fastai-master/courses/dl1/data/cifar/test/cat\n",
    "#! sudo mkdir /home/paperspace/fastai/FastAI_2018/fastai-master/courses/dl1/data/cifar/test/deer\n",
    "#! sudo mkdir /home/paperspace/fastai/FastAI_2018/fastai-master/courses/dl1/data/cifar/test/dog\n",
    "#! sudo mkdir /home/paperspace/fastai/FastAI_2018/fastai-master/courses/dl1/data/cifar/test/frog\n",
    "#! sudo mkdir /home/paperspace/fastai/FastAI_2018/fastai-master/courses/dl1/data/cifar/test/horse\n",
    "#! sudo mkdir /home/paperspace/fastai/FastAI_2018/fastai-master/courses/dl1/data/cifar/test/ship\n",
    "#! sudo mkdir /home/paperspace/fastai/FastAI_2018/fastai-master/courses/dl1/data/cifar/test/truck"
   ]
  },
  {
   "cell_type": "code",
   "execution_count": 9,
   "metadata": {},
   "outputs": [],
   "source": [
    "#! sudo mkdir /home/paperspace/fastai/FastAI_2018/fastai-master/courses/dl1/data/cifar/train/airplane\n",
    "#! sudo mkdir /home/paperspace/fastai/FastAI_2018/fastai-master/courses/dl1/data/cifar/train/automobile\n",
    "#! sudo mkdir /home/paperspace/fastai/FastAI_2018/fastai-master/courses/dl1/data/cifar/train/bird\n",
    "#! sudo mkdir /home/paperspace/fastai/FastAI_2018/fastai-master/courses/dl1/data/cifar/train/cat\n",
    "#! sudo mkdir /home/paperspace/fastai/FastAI_2018/fastai-master/courses/dl1/data/cifar/train/deer\n",
    "#! sudo mkdir /home/paperspace/fastai/FastAI_2018/fastai-master/courses/dl1/data/cifar/train/dog\n",
    "#! sudo mkdir /home/paperspace/fastai/FastAI_2018/fastai-master/courses/dl1/data/cifar/train/frog\n",
    "#! sudo mkdir /home/paperspace/fastai/FastAI_2018/fastai-master/courses/dl1/data/cifar/train/horse\n",
    "#! sudo mkdir /home/paperspace/fastai/FastAI_2018/fastai-master/courses/dl1/data/cifar/train/ship\n",
    "#! sudo mkdir /home/paperspace/fastai/FastAI_2018/fastai-master/courses/dl1/data/cifar/train/truck"
   ]
  },
  {
   "cell_type": "code",
   "execution_count": 10,
   "metadata": {},
   "outputs": [
    {
     "name": "stdout",
     "output_type": "stream",
     "text": [
      "['7372_dog.png',\n",
      " '6920_dog.png',\n",
      " '7582_dog.png',\n",
      " '5820_dog.png',\n",
      " '8242_dog.png',\n",
      " '1042_dog.png',\n",
      " '8794_dog.png',\n",
      " '9586_dog.png',\n",
      " '8424_dog.png',\n",
      " '7064_dog.png',\n",
      " '4615_dog.png',\n",
      " '5115_dog.png',\n",
      " '7820_dog.png',\n",
      " '421_dog.png',\n",
      " '9596_dog.png',\n",
      " '1812_dog.png',\n",
      " '7540_dog.png',\n",
      " '4805_dog.png',\n",
      " '168_dog.png',\n",
      " '2060_dog.png',\n",
      " '6782_dog.png',\n",
      " '1977_dog.png',\n",
      " '3290_dog.png',\n",
      " '5468_dog.png',\n",
      " '549_dog.png',\n",
      " '5212_dog.png',\n",
      " '8992_dog.png',\n",
      " '4740_dog.png',\n",
      " '7529_dog.png',\n",
      " '8070_dog.png',\n",
      " '9557_dog.png',\n",
      " '6683_dog.png',\n",
      " '8212_dog.png',\n",
      " '7111_dog.png',\n",
      " '5179_dog.png',\n",
      " '2259_dog.png',\n",
      " '4323_dog.png',\n",
      " '6609_dog.png',\n",
      " '553_dog.png',\n",
      " '9041_dog.png',\n",
      " '7168_dog.png',\n",
      " '9311_dog.png',\n",
      " '8288_dog.png',\n",
      " '5969_dog.png',\n",
      " '4819_dog.png',\n",
      " '7278_dog.png',\n",
      " '16_dog.png',\n",
      " '8458_dog.png',\n",
      " '8863_dog.png',\n",
      " '2349_dog.png',\n",
      " '1498_dog.png',\n",
      " '9376_dog.png',\n",
      " '937_dog.png',\n",
      " '6169_dog.png',\n",
      " '2718_dog.png',\n",
      " '2864_dog.png',\n",
      " '7673_dog.png',\n",
      " '2890_dog.png',\n",
      " '9360_dog.png',\n",
      " '5210_dog.png',\n",
      " '1649_dog.png',\n",
      " '1385_dog.png',\n",
      " '2017_dog.png',\n",
      " '4172_dog.png',\n",
      " '5553_dog.png',\n",
      " '6214_dog.png',\n",
      " '3083_dog.png',\n",
      " '9025_dog.png',\n",
      " '4069_dog.png',\n",
      " '5797_dog.png',\n",
      " '3774_dog.png',\n",
      " '1453_dog.png',\n",
      " '7338_dog.png',\n",
      " '8444_dog.png',\n",
      " '1857_dog.png',\n",
      " '1642_dog.png',\n",
      " '8161_dog.png',\n",
      " '9856_dog.png',\n",
      " '2845_dog.png',\n",
      " '7125_dog.png',\n",
      " '2057_dog.png',\n",
      " '2397_dog.png',\n",
      " '8962_dog.png',\n",
      " '6037_dog.png',\n",
      " '5549_dog.png',\n",
      " '6723_dog.png',\n",
      " '6310_dog.png',\n",
      " '1244_dog.png',\n",
      " '1620_dog.png',\n",
      " '8192_dog.png',\n",
      " '2777_dog.png',\n",
      " '5186_dog.png',\n",
      " '5834_dog.png',\n",
      " '5550_dog.png',\n",
      " '7241_dog.png',\n",
      " '6944_dog.png',\n",
      " '4275_dog.png',\n",
      " '8330_dog.png',\n",
      " '2051_dog.png',\n",
      " '652_dog.png',\n",
      " '3264_dog.png',\n",
      " '2414_dog.png',\n",
      " '3451_dog.png',\n",
      " '6199_dog.png',\n",
      " '9737_dog.png',\n",
      " '2722_dog.png',\n",
      " '1862_dog.png',\n",
      " '4392_dog.png',\n",
      " '6590_dog.png',\n",
      " '1339_dog.png',\n",
      " '3688_dog.png',\n",
      " '6889_dog.png',\n",
      " '7941_dog.png',\n",
      " '2005_dog.png',\n",
      " '6224_dog.png',\n",
      " '6640_dog.png',\n",
      " '5915_dog.png',\n",
      " '8211_dog.png',\n",
      " '5222_dog.png',\n",
      " '2688_dog.png',\n",
      " '1138_dog.png',\n",
      " '6904_dog.png',\n",
      " '3458_dog.png',\n",
      " '5591_dog.png',\n",
      " '1738_dog.png',\n",
      " '525_dog.png',\n",
      " '2525_dog.png',\n",
      " '7972_dog.png',\n",
      " '148_dog.png',\n",
      " '1388_dog.png',\n",
      " '1117_dog.png',\n",
      " '9300_dog.png',\n",
      " '230_dog.png',\n",
      " '6259_dog.png',\n",
      " '9997_dog.png',\n",
      " '190_dog.png',\n",
      " '4552_dog.png',\n",
      " '2618_dog.png',\n",
      " '1527_dog.png',\n",
      " '7981_dog.png',\n",
      " '3192_dog.png',\n",
      " '7446_dog.png',\n",
      " '6959_dog.png',\n",
      " '2818_dog.png',\n",
      " '9640_dog.png',\n",
      " '3849_dog.png',\n",
      " '1316_dog.png',\n",
      " '6771_dog.png',\n",
      " '4420_dog.png',\n",
      " '7615_dog.png',\n",
      " '4697_dog.png',\n",
      " '6986_dog.png',\n",
      " '2726_dog.png',\n",
      " '4411_dog.png',\n",
      " '4956_dog.png',\n",
      " '9380_dog.png',\n",
      " '3434_dog.png',\n",
      " '3709_dog.png',\n",
      " '1228_dog.png',\n",
      " '4238_dog.png',\n",
      " '6993_dog.png',\n",
      " '2729_dog.png',\n",
      " '9146_dog.png',\n",
      " '7330_dog.png',\n",
      " '8045_dog.png',\n",
      " '4747_dog.png',\n",
      " '7331_dog.png',\n",
      " '8187_dog.png',\n",
      " '9652_dog.png',\n",
      " '2036_dog.png',\n",
      " '474_dog.png',\n",
      " '1000_dog.png',\n",
      " '4109_dog.png',\n",
      " '1598_dog.png',\n",
      " '9616_dog.png',\n",
      " '7141_dog.png',\n",
      " '318_dog.png',\n",
      " '4321_dog.png',\n",
      " '2803_dog.png',\n",
      " '2201_dog.png',\n",
      " '4182_dog.png',\n",
      " '4810_dog.png',\n",
      " '3830_dog.png',\n",
      " '9215_dog.png',\n",
      " '3924_dog.png',\n",
      " '768_dog.png',\n",
      " '8147_dog.png',\n",
      " '4626_dog.png',\n",
      " '1908_dog.png',\n",
      " '4915_dog.png',\n",
      " '5441_dog.png',\n",
      " '5467_dog.png',\n",
      " '7369_dog.png',\n",
      " '8263_dog.png',\n",
      " '1948_dog.png',\n",
      " '4273_dog.png',\n",
      " '3546_dog.png',\n",
      " '1543_dog.png',\n",
      " '3420_dog.png',\n",
      " '7411_dog.png',\n",
      " '6924_dog.png',\n",
      " '2850_dog.png',\n",
      " '7842_dog.png',\n",
      " '2047_dog.png',\n",
      " '4699_dog.png',\n",
      " '6064_dog.png',\n",
      " '6862_dog.png',\n",
      " '7959_dog.png',\n",
      " '6378_dog.png',\n",
      " '7958_dog.png',\n",
      " '1389_dog.png',\n",
      " '5796_dog.png',\n",
      " '4048_dog.png',\n",
      " '4587_dog.png',\n",
      " '5303_dog.png',\n",
      " '2161_dog.png',\n",
      " '4823_dog.png',\n",
      " '1976_dog.png',\n",
      " '9756_dog.png',\n",
      " '7795_dog.png',\n",
      " '3393_dog.png',\n",
      " '321_dog.png',\n",
      " '3831_dog.png',\n",
      " '8682_dog.png',\n",
      " '6268_dog.png',\n",
      " '6257_dog.png',\n",
      " '7798_dog.png',\n",
      " '1988_dog.png',\n",
      " '4121_dog.png',\n",
      " '2575_dog.png',\n",
      " '431_dog.png',\n",
      " '6564_dog.png',\n",
      " '4078_dog.png',\n",
      " '5745_dog.png',\n",
      " '5482_dog.png',\n",
      " '2277_dog.png',\n",
      " '5540_dog.png',\n",
      " '4696_dog.png',\n",
      " '8316_dog.png',\n",
      " '3666_dog.png',\n",
      " '9829_dog.png',\n",
      " '1774_dog.png',\n",
      " '2683_dog.png',\n",
      " '4303_dog.png',\n",
      " '9084_dog.png',\n",
      " '478_dog.png',\n",
      " '4463_dog.png',\n",
      " '7127_dog.png',\n",
      " '520_dog.png',\n",
      " '6178_dog.png',\n",
      " '4241_dog.png',\n",
      " '7887_dog.png',\n",
      " '5947_dog.png',\n",
      " '7834_dog.png',\n",
      " '5047_dog.png',\n",
      " '3610_dog.png',\n",
      " '7697_dog.png',\n",
      " '3142_dog.png',\n",
      " '128_dog.png',\n",
      " '7267_dog.png',\n",
      " '6584_dog.png',\n",
      " '5650_dog.png',\n",
      " '3954_dog.png',\n",
      " '4593_dog.png',\n",
      " '8432_dog.png',\n",
      " '649_dog.png',\n",
      " '3006_dog.png',\n",
      " '2750_dog.png',\n",
      " '2915_dog.png',\n",
      " '1283_dog.png',\n",
      " '3892_dog.png',\n",
      " '9027_dog.png',\n",
      " '6878_dog.png',\n",
      " '5504_dog.png',\n",
      " '5134_dog.png',\n",
      " '5528_dog.png',\n",
      " '5044_dog.png',\n",
      " '4390_dog.png',\n",
      " '1235_dog.png',\n",
      " '5459_dog.png',\n",
      " '9363_dog.png',\n",
      " '910_dog.png',\n",
      " '3798_dog.png',\n",
      " '5810_dog.png',\n",
      " '8869_dog.png',\n",
      " '6043_dog.png',\n",
      " '250_dog.png',\n",
      " '601_dog.png',\n",
      " '7776_dog.png',\n",
      " '460_dog.png',\n",
      " '6690_dog.png',\n",
      " '7203_dog.png',\n",
      " '1872_dog.png',\n",
      " '5098_dog.png',\n",
      " '5081_dog.png',\n",
      " '3369_dog.png',\n",
      " '2716_dog.png',\n",
      " '9095_dog.png',\n",
      " '8749_dog.png',\n",
      " '3748_dog.png',\n",
      " '6537_dog.png',\n",
      " '9264_dog.png',\n",
      " '551_dog.png',\n",
      " '7712_dog.png',\n",
      " '3045_dog.png',\n",
      " '33_dog.png',\n",
      " '6764_dog.png',\n",
      " '7147_dog.png',\n",
      " '510_dog.png',\n",
      " '8788_dog.png',\n",
      " '3000_dog.png',\n",
      " '1745_dog.png',\n",
      " '9309_dog.png',\n",
      " '5647_dog.png',\n",
      " '6018_dog.png',\n",
      " '158_dog.png',\n",
      " '4849_dog.png',\n",
      " '4259_dog.png',\n",
      " '5976_dog.png',\n",
      " '4795_dog.png',\n",
      " '1329_dog.png',\n",
      " '9134_dog.png',\n",
      " '3019_dog.png',\n",
      " '6964_dog.png',\n",
      " '1355_dog.png',\n",
      " '8625_dog.png',\n",
      " '1019_dog.png',\n",
      " '5163_dog.png',\n",
      " '7794_dog.png',\n",
      " '6023_dog.png',\n",
      " '5853_dog.png',\n",
      " '4143_dog.png',\n",
      " '8410_dog.png',\n",
      " '9514_dog.png',\n",
      " '4406_dog.png',\n",
      " '4501_dog.png',\n",
      " '1362_dog.png',\n",
      " '207_dog.png',\n",
      " '8173_dog.png',\n",
      " '8352_dog.png',\n",
      " '2573_dog.png',\n",
      " '3017_dog.png',\n",
      " '7713_dog.png',\n",
      " '5450_dog.png',\n",
      " '2106_dog.png',\n",
      " '178_dog.png',\n",
      " '7294_dog.png',\n",
      " '6669_dog.png',\n",
      " '3622_dog.png',\n",
      " '5119_dog.png',\n",
      " '1701_dog.png',\n",
      " '6929_dog.png',\n",
      " '1759_dog.png',\n",
      " '7741_dog.png',\n",
      " '5979_dog.png',\n",
      " '1045_dog.png',\n",
      " '8025_dog.png',\n",
      " '9582_dog.png',\n",
      " '7538_dog.png',\n",
      " '3251_dog.png',\n",
      " '9348_dog.png',\n",
      " '9928_dog.png',\n",
      " '834_dog.png',\n",
      " '1586_dog.png',\n",
      " '1650_dog.png',\n",
      " '8108_dog.png',\n",
      " '1657_dog.png',\n",
      " '8505_dog.png',\n",
      " '9657_dog.png',\n",
      " '2384_dog.png',\n",
      " '828_dog.png',\n",
      " '4738_dog.png',\n",
      " '7779_dog.png',\n",
      " '5776_dog.png',\n",
      " '5298_dog.png',\n",
      " '7263_dog.png',\n",
      " '2689_dog.png',\n",
      " '9922_dog.png',\n",
      " '514_dog.png',\n",
      " '3107_dog.png',\n",
      " '2536_dog.png',\n",
      " '6014_dog.png',\n",
      " '3796_dog.png',\n",
      " '1681_dog.png',\n",
      " '1731_dog.png',\n",
      " '9160_dog.png',\n",
      " '2372_dog.png',\n",
      " '3275_dog.png',\n",
      " '5046_dog.png',\n",
      " '4089_dog.png',\n",
      " '4829_dog.png',\n",
      " '6122_dog.png',\n",
      " '238_dog.png',\n",
      " '6278_dog.png',\n",
      " '4471_dog.png',\n",
      " '5064_dog.png',\n",
      " '4888_dog.png',\n",
      " '200_dog.png',\n",
      " '2342_dog.png',\n",
      " '5352_dog.png',\n",
      " '4998_dog.png',\n",
      " '2026_dog.png',\n",
      " '4641_dog.png',\n",
      " '9523_dog.png',\n",
      " '2582_dog.png',\n",
      " '1999_dog.png',\n",
      " '7557_dog.png',\n",
      " '3909_dog.png',\n",
      " '9774_dog.png',\n",
      " '2022_dog.png',\n",
      " '6068_dog.png',\n",
      " '7080_dog.png',\n",
      " '6226_dog.png',\n",
      " '3784_dog.png',\n",
      " '9364_dog.png',\n",
      " '8697_dog.png',\n",
      " '2154_dog.png',\n",
      " '8084_dog.png',\n",
      " '3432_dog.png',\n",
      " '8630_dog.png',\n",
      " '2003_dog.png',\n",
      " '4988_dog.png',\n",
      " '2768_dog.png',\n",
      " '8340_dog.png',\n",
      " '518_dog.png',\n",
      " '4555_dog.png',\n",
      " '7636_dog.png',\n",
      " '6711_dog.png',\n",
      " '924_dog.png',\n",
      " '9985_dog.png',\n",
      " '1577_dog.png',\n",
      " '6592_dog.png',\n",
      " '5377_dog.png',\n",
      " '8979_dog.png',\n",
      " '2292_dog.png',\n",
      " '5609_dog.png',\n",
      " '7287_dog.png',\n",
      " '6297_dog.png',\n",
      " '6120_dog.png',\n",
      " '5101_dog.png',\n",
      " '6183_dog.png',\n",
      " '7137_dog.png',\n",
      " '5603_dog.png',\n",
      " '8236_dog.png',\n",
      " '2162_dog.png',\n",
      " '1764_dog.png',\n",
      " '925_dog.png',\n",
      " '9939_dog.png',\n",
      " '5178_dog.png',\n",
      " '5642_dog.png',\n",
      " '9446_dog.png',\n",
      " '6389_dog.png',\n",
      " '3204_dog.png',\n",
      " '8082_dog.png',\n",
      " '5576_dog.png',\n",
      " '1536_dog.png',\n",
      " '327_dog.png',\n",
      " '6216_dog.png',\n",
      " '5845_dog.png',\n",
      " '5580_dog.png',\n",
      " '6165_dog.png',\n",
      " '2172_dog.png',\n",
      " '1328_dog.png',\n",
      " '4246_dog.png',\n",
      " '5901_dog.png',\n",
      " '5713_dog.png',\n",
      " '389_dog.png',\n",
      " '4072_dog.png',\n",
      " '9098_dog.png',\n",
      " '1055_dog.png',\n",
      " '5156_dog.png',\n",
      " '8202_dog.png',\n",
      " '9269_dog.png',\n",
      " '2392_dog.png',\n",
      " '8789_dog.png',\n",
      " '8723_dog.png',\n",
      " '8399_dog.png',\n",
      " '4343_dog.png',\n",
      " '7720_dog.png',\n",
      " '7119_dog.png',\n",
      " '3945_dog.png',\n",
      " '3376_dog.png',\n",
      " '5025_dog.png',\n",
      " '5724_dog.png',\n",
      " '5229_dog.png',\n",
      " '6875_dog.png',\n",
      " '4777_dog.png',\n",
      " '6562_dog.png',\n",
      " '6031_dog.png',\n",
      " '1097_dog.png',\n",
      " '1308_dog.png',\n",
      " '9257_dog.png',\n",
      " '5978_dog.png',\n",
      " '1854_dog.png',\n",
      " '2281_dog.png',\n",
      " '2948_dog.png',\n",
      " '1214_dog.png',\n",
      " '1230_dog.png',\n",
      " '8901_dog.png',\n",
      " '3466_dog.png',\n",
      " '6249_dog.png',\n",
      " '2427_dog.png',\n",
      " '2288_dog.png',\n",
      " '343_dog.png',\n",
      " '6386_dog.png',\n",
      " '3667_dog.png',\n",
      " '8847_dog.png',\n",
      " '4469_dog.png',\n",
      " '42_dog.png',\n",
      " '639_dog.png',\n",
      " '579_dog.png',\n",
      " '8170_dog.png',\n",
      " '6185_dog.png',\n",
      " '8140_dog.png',\n",
      " '2711_dog.png',\n",
      " '2061_dog.png',\n",
      " '5611_dog.png',\n",
      " '631_dog.png',\n",
      " '3236_dog.png',\n",
      " '5694_dog.png',\n",
      " '9707_dog.png',\n",
      " '8428_dog.png',\n",
      " '3255_dog.png',\n",
      " '8317_dog.png',\n",
      " '3959_dog.png',\n",
      " '2590_dog.png',\n",
      " '3452_dog.png',\n",
      " '7279_dog.png',\n",
      " '5730_dog.png',\n",
      " '8477_dog.png',\n",
      " '2472_dog.png',\n",
      " '1548_dog.png',\n",
      " '7124_dog.png',\n",
      " '779_dog.png',\n",
      " '275_dog.png',\n",
      " '1793_dog.png',\n",
      " '7474_dog.png',\n",
      " '899_dog.png',\n",
      " '9188_dog.png',\n",
      " '6035_dog.png',\n",
      " '6927_dog.png',\n",
      " '9892_dog.png',\n",
      " '2115_dog.png',\n",
      " '8555_dog.png',\n",
      " '4061_dog.png',\n",
      " '6837_dog.png',\n",
      " '8451_dog.png',\n",
      " '6761_dog.png',\n",
      " '9305_dog.png',\n",
      " '1736_dog.png',\n",
      " '9225_dog.png',\n",
      " '6760_dog.png',\n",
      " '4925_dog.png',\n",
      " '4087_dog.png',\n",
      " '1318_dog.png',\n",
      " '6591_dog.png',\n",
      " '181_dog.png',\n",
      " '1773_dog.png',\n",
      " '4917_dog.png',\n",
      " '3524_dog.png',\n",
      " '1290_dog.png',\n",
      " '8009_dog.png',\n",
      " '9540_dog.png',\n",
      " '3202_dog.png',\n",
      " '9107_dog.png',\n",
      " '3287_dog.png',\n",
      " '4394_dog.png',\n",
      " '9465_dog.png',\n",
      " '6527_dog.png',\n",
      " '7292_dog.png',\n",
      " '6869_dog.png',\n",
      " '6608_dog.png',\n",
      " '5867_dog.png',\n",
      " '7429_dog.png',\n",
      " '4764_dog.png',\n",
      " '5005_dog.png',\n",
      " '9887_dog.png',\n",
      " '9844_dog.png',\n",
      " '319_dog.png',\n",
      " '3334_dog.png',\n",
      " '4530_dog.png',\n",
      " '1438_dog.png',\n",
      " '2538_dog.png',\n",
      " '6528_dog.png',\n",
      " '1025_dog.png',\n",
      " '679_dog.png',\n",
      " '5828_dog.png',\n",
      " '8172_dog.png',\n",
      " '9414_dog.png',\n",
      " '3613_dog.png',\n",
      " '2094_dog.png',\n",
      " '7608_dog.png',\n",
      " '9622_dog.png',\n",
      " '101_dog.png',\n",
      " '2998_dog.png',\n",
      " '3808_dog.png',\n",
      " '8111_dog.png',\n",
      " '8692_dog.png',\n",
      " '1637_dog.png',\n",
      " '4224_dog.png',\n",
      " '5808_dog.png',\n",
      " '9260_dog.png',\n",
      " '9420_dog.png',\n",
      " '8729_dog.png',\n",
      " '6423_dog.png',\n",
      " '6646_dog.png',\n",
      " '7971_dog.png',\n",
      " '8844_dog.png',\n",
      " '5725_dog.png',\n",
      " '6733_dog.png',\n",
      " '4140_dog.png',\n",
      " '3981_dog.png',\n",
      " '6756_dog.png',\n",
      " '3878_dog.png',\n",
      " '9759_dog.png',\n",
      " '502_dog.png',\n",
      " '4528_dog.png',\n",
      " '1901_dog.png',\n",
      " '6072_dog.png',\n",
      " '3221_dog.png',\n",
      " '9741_dog.png',\n",
      " '1599_dog.png',\n",
      " '7027_dog.png',\n",
      " '2479_dog.png',\n",
      " '7258_dog.png',\n",
      " '7787_dog.png',\n",
      " '7161_dog.png',\n",
      " '6142_dog.png',\n",
      " '2988_dog.png',\n",
      " '4860_dog.png',\n",
      " '7460_dog.png',\n",
      " '3178_dog.png',\n",
      " '4907_dog.png',\n",
      " '1700_dog.png',\n",
      " '7368_dog.png',\n",
      " '7668_dog.png',\n",
      " '7620_dog.png',\n",
      " '5849_dog.png',\n",
      " '2942_dog.png',\n",
      " '1252_dog.png',\n",
      " '5312_dog.png',\n",
      " '7545_dog.png',\n",
      " '4160_dog.png',\n",
      " '817_dog.png',\n",
      " '12_dog.png',\n",
      " '1084_dog.png',\n",
      " '3704_dog.png',\n",
      " '4052_dog.png',\n",
      " '9952_dog.png',\n",
      " '2316_dog.png',\n",
      " '4433_dog.png',\n",
      " '457_dog.png',\n",
      " '2936_dog.png',\n",
      " '7756_dog.png',\n",
      " '8266_dog.png',\n",
      " '9410_dog.png',\n",
      " '361_dog.png',\n",
      " '729_dog.png',\n",
      " '7804_dog.png',\n",
      " '6344_dog.png',\n",
      " '1559_dog.png',\n",
      " '3518_dog.png',\n",
      " '640_dog.png',\n",
      " '3571_dog.png',\n",
      " '4623_dog.png',\n",
      " '3669_dog.png',\n",
      " '4976_dog.png',\n",
      " '8973_dog.png',\n",
      " '2381_dog.png',\n",
      " '239_dog.png',\n",
      " '5251_dog.png',\n",
      " '7539_dog.png',\n",
      " '9575_dog.png',\n",
      " '2801_dog.png',\n",
      " '5830_dog.png',\n",
      " '7926_dog.png',\n",
      " '483_dog.png',\n",
      " '7662_dog.png',\n",
      " '2056_dog.png',\n",
      " '4934_dog.png',\n",
      " '7439_dog.png',\n",
      " '3271_dog.png',\n",
      " '7852_dog.png',\n",
      " '3623_dog.png',\n",
      " '6097_dog.png',\n",
      " '6554_dog.png',\n",
      " '4358_dog.png',\n",
      " '4051_dog.png',\n",
      " '8782_dog.png',\n",
      " '1542_dog.png',\n",
      " '2755_dog.png',\n",
      " '4724_dog.png',\n",
      " '437_dog.png',\n",
      " '8904_dog.png',\n",
      " '2205_dog.png',\n",
      " '1807_dog.png',\n",
      " '9654_dog.png',\n",
      " '5076_dog.png',\n",
      " '5130_dog.png',\n",
      " '1588_dog.png',\n",
      " '2001_dog.png',\n",
      " '6397_dog.png',\n",
      " '6127_dog.png',\n",
      " '8618_dog.png',\n",
      " '550_dog.png',\n",
      " '4232_dog.png',\n",
      " '5617_dog.png',\n",
      " '2236_dog.png',\n",
      " '1703_dog.png',\n",
      " '4906_dog.png',\n",
      " '5615_dog.png',\n",
      " '488_dog.png',\n",
      " '2731_dog.png',\n",
      " '699_dog.png',\n",
      " '6287_dog.png',\n",
      " '232_dog.png',\n",
      " '6428_dog.png',\n",
      " '2983_dog.png',\n",
      " '1193_dog.png',\n",
      " '2219_dog.png',\n",
      " '3132_dog.png',\n",
      " '3804_dog.png',\n",
      " '6332_dog.png',\n",
      " '533_dog.png',\n",
      " '3487_dog.png',\n",
      " '4844_dog.png',\n",
      " '345_dog.png',\n",
      " '1337_dog.png',\n",
      " '5645_dog.png',\n",
      " '4551_dog.png',\n",
      " '3735_dog.png',\n",
      " '9005_dog.png',\n",
      " '8289_dog.png',\n",
      " '8619_dog.png',\n",
      " '2037_dog.png',\n",
      " '7393_dog.png',\n",
      " '7118_dog.png',\n",
      " '5372_dog.png',\n",
      " '2055_dog.png',\n",
      " '2651_dog.png',\n",
      " '5426_dog.png',\n",
      " '9304_dog.png',\n",
      " '7619_dog.png',\n",
      " '4964_dog.png',\n",
      " '9918_dog.png',\n",
      " '8440_dog.png',\n",
      " '3018_dog.png',\n",
      " '8997_dog.png',\n",
      " '9353_dog.png',\n",
      " '7985_dog.png',\n",
      " '6674_dog.png',\n",
      " '3719_dog.png',\n",
      " '3496_dog.png',\n",
      " '4921_dog.png',\n",
      " '5907_dog.png',\n",
      " '9712_dog.png',\n",
      " '8597_dog.png',\n",
      " '31_dog.png',\n",
      " '7085_dog.png',\n",
      " '9261_dog.png',\n",
      " '6385_dog.png',\n",
      " '9164_dog.png',\n",
      " '6253_dog.png',\n",
      " '7364_dog.png',\n",
      " '8378_dog.png',\n",
      " '8300_dog.png',\n",
      " '7265_dog.png',\n",
      " '1239_dog.png',\n",
      " '6823_dog.png',\n",
      " '9838_dog.png',\n",
      " '4624_dog.png',\n",
      " '1922_dog.png',\n",
      " '8870_dog.png',\n",
      " '5062_dog.png',\n",
      " '6513_dog.png',\n",
      " '8268_dog.png',\n",
      " '4225_dog.png',\n",
      " '7828_dog.png',\n",
      " '6931_dog.png',\n",
      " '8589_dog.png',\n",
      " '3868_dog.png',\n",
      " '4942_dog.png',\n",
      " '4631_dog.png',\n",
      " '5774_dog.png',\n",
      " '2187_dog.png',\n",
      " '3839_dog.png',\n",
      " '7295_dog.png',\n",
      " '6890_dog.png',\n",
      " '2827_dog.png',\n",
      " '1804_dog.png',\n",
      " '5463_dog.png',\n",
      " '5692_dog.png',\n",
      " '903_dog.png',\n",
      " '3532_dog.png',\n",
      " '5337_dog.png',\n",
      " '6092_dog.png',\n",
      " '8110_dog.png',\n",
      " '3268_dog.png',\n",
      " '9289_dog.png',\n",
      " '8873_dog.png',\n",
      " '6116_dog.png',\n",
      " '155_dog.png',\n",
      " '2650_dog.png',\n",
      " '9661_dog.png',\n",
      " '9138_dog.png',\n",
      " '544_dog.png',\n",
      " '3115_dog.png',\n",
      " '1120_dog.png',\n",
      " '5930_dog.png',\n",
      " '991_dog.png',\n",
      " '9551_dog.png',\n",
      " '6206_dog.png',\n",
      " '3200_dog.png',\n",
      " '1506_dog.png',\n",
      " '4139_dog.png',\n",
      " '2023_dog.png',\n",
      " '5955_dog.png',\n",
      " '2168_dog.png',\n",
      " '6979_dog.png',\n",
      " '5269_dog.png',\n",
      " '9637_dog.png',\n",
      " '7162_dog.png',\n",
      " '3931_dog.png',\n",
      " '1847_dog.png',\n",
      " '4017_dog.png',\n",
      " '5625_dog.png',\n",
      " '8752_dog.png',\n",
      " '8766_dog.png',\n",
      " '85_dog.png',\n",
      " '5653_dog.png',\n",
      " '5035_dog.png',\n",
      " '6571_dog.png',\n",
      " '24_dog.png',\n",
      " '7386_dog.png',\n",
      " '5643_dog.png',\n",
      " '4312_dog.png',\n",
      " '2151_dog.png',\n",
      " '39_dog.png',\n",
      " '9649_dog.png',\n",
      " '2654_dog.png',\n",
      " '3411_dog.png',\n",
      " '8478_dog.png',\n",
      " '7476_dog.png',\n",
      " '3059_dog.png',\n",
      " '2291_dog.png',\n",
      " '2487_dog.png',\n",
      " '9878_dog.png',\n",
      " '9761_dog.png',\n",
      " '9337_dog.png',\n",
      " '7160_dog.png',\n",
      " '3026_dog.png',\n",
      " '3949_dog.png',\n",
      " '9396_dog.png',\n",
      " '9605_dog.png',\n",
      " '444_dog.png',\n",
      " '3574_dog.png',\n",
      " '2273_dog.png',\n",
      " '4247_dog.png',\n",
      " '2989_dog.png',\n",
      " '9443_dog.png',\n",
      " '6787_dog.png',\n",
      " '1940_dog.png',\n",
      " '7233_dog.png',\n",
      " '8296_dog.png',\n",
      " '749_dog.png',\n",
      " '1885_dog.png',\n",
      " '3092_dog.png',\n",
      " '7244_dog.png',\n",
      " '3558_dog.png',\n",
      " '484_dog.png',\n",
      " '5984_dog.png',\n",
      " '7398_dog.png',\n",
      " '6945_dog.png',\n",
      " '3291_dog.png',\n",
      " '9155_dog.png',\n",
      " '9804_dog.png',\n",
      " '1276_dog.png',\n",
      " '2320_dog.png',\n",
      " '8115_dog.png',\n",
      " '5469_dog.png',\n",
      " '4966_dog.png',\n",
      " '3355_dog.png',\n",
      " '9369_dog.png',\n",
      " '6532_dog.png',\n",
      " '1698_dog.png',\n",
      " '5682_dog.png',\n",
      " '9646_dog.png',\n",
      " '1950_dog.png',\n",
      " '2317_dog.png',\n",
      " '9053_dog.png',\n",
      " '4887_dog.png',\n",
      " '1116_dog.png',\n",
      " '9050_dog.png',\n",
      " '614_dog.png',\n",
      " '4152_dog.png',\n",
      " '6441_dog.png',\n",
      " '5749_dog.png',\n",
      " '2609_dog.png',\n",
      " '7493_dog.png',\n",
      " '8469_dog.png',\n",
      " '1571_dog.png',\n",
      " '7671_dog.png',\n",
      " '9977_dog.png',\n",
      " '7336_dog.png',\n",
      " '5570_dog.png',\n",
      " '7149_dog.png',\n",
      " '4628_dog.png',\n",
      " '2494_dog.png',\n",
      " '1041_dog.png',\n",
      " '4632_dog.png',\n",
      " '5473_dog.png',\n",
      " '6506_dog.png',\n",
      " '4947_dog.png',\n",
      " '3535_dog.png',\n",
      " '4935_dog.png',\n",
      " '5613_dog.png',\n",
      " '8079_dog.png',\n",
      " '5846_dog.png',\n",
      " '3323_dog.png',\n",
      " '9823_dog.png',\n",
      " '2970_dog.png',\n",
      " '5102_dog.png',\n",
      " '3306_dog.png',\n",
      " '8776_dog.png',\n",
      " '6614_dog.png',\n",
      " '6835_dog.png',\n",
      " '6094_dog.png',\n",
      " '141_dog.png',\n",
      " '3424_dog.png',\n",
      " '6677_dog.png',\n",
      " '446_dog.png',\n",
      " '1818_dog.png',\n",
      " '2247_dog.png',\n",
      " '2861_dog.png',\n",
      " '2860_dog.png',\n",
      " '8745_dog.png',\n",
      " '5673_dog.png',\n",
      " '9853_dog.png',\n",
      " '3726_dog.png',\n",
      " '8436_dog.png',\n",
      " '2969_dog.png',\n",
      " '1561_dog.png',\n",
      " '1636_dog.png',\n",
      " '7346_dog.png',\n",
      " '3381_dog.png',\n",
      " '4797_dog.png',\n",
      " '3404_dog.png',\n",
      " '3235_dog.png',\n",
      " '1400_dog.png',\n",
      " '7421_dog.png',\n",
      " '3195_dog.png',\n",
      " '9815_dog.png',\n",
      " '5816_dog.png',\n",
      " '6065_dog.png',\n",
      " '3137_dog.png',\n",
      " '3806_dog.png',\n",
      " '5823_dog.png',\n",
      " '7781_dog.png',\n",
      " '5447_dog.png',\n",
      " '7433_dog.png',\n",
      " '5376_dog.png',\n",
      " '598_dog.png',\n",
      " '8301_dog.png',\n",
      " '1752_dog.png',\n",
      " '7528_dog.png',\n",
      " '810_dog.png',\n",
      " '262_dog.png',\n",
      " '6535_dog.png',\n",
      " '9976_dog.png',\n",
      " '7438_dog.png',\n",
      " '6671_dog.png',\n",
      " '5112_dog.png',\n",
      " '1855_dog.png',\n",
      " '7184_dog.png',\n",
      " '9058_dog.png',\n",
      " '5271_dog.png',\n",
      " '2885_dog.png',\n",
      " '9993_dog.png',\n",
      " '1675_dog.png',\n",
      " '7716_dog.png',\n",
      " '9394_dog.png',\n",
      " '2459_dog.png',\n",
      " '9180_dog.png',\n",
      " '9477_dog.png',\n",
      " '9798_dog.png',\n",
      " '212_dog.png',\n",
      " '4005_dog.png',\n",
      " '4507_dog.png',\n",
      " '9589_dog.png',\n",
      " '2335_dog.png',\n",
      " '7334_dog.png',\n",
      " '8664_dog.png',\n",
      " '6627_dog.png',\n",
      " '7157_dog.png',\n",
      " '2767_dog.png',\n",
      " '3379_dog.png',\n",
      " '1863_dog.png',\n",
      " '5552_dog.png',\n",
      " '9406_dog.png',\n",
      " '2012_dog.png']\n"
     ]
    }
   ],
   "source": [
    "dirlist = os.listdir(\"/home/paperspace/fastai/FastAI_2018/fastai-master/courses/dl1/data/test/dog\")\n",
    "from pprint import pprint\n",
    "pprint(dirlist)"
   ]
  },
  {
   "cell_type": "code",
   "execution_count": 11,
   "metadata": {},
   "outputs": [],
   "source": [
    "#dir_name = \"/home/paperspace/fastai/FastAI_2018/fastai-master/courses/dl1/data/test/dog/.ipynb_checkpoints\"\n",
    "#os.rmdir(dir_name)\n",
    "        #print('.ipynb_checkpoints removed')"
   ]
  },
  {
   "cell_type": "code",
   "execution_count": 12,
   "metadata": {},
   "outputs": [],
   "source": [
    "#dirlist = os.listdir(\"/home/paperspace/fastai/FastAI_2018/fastai-master/courses/dl1/data/cifar/train/\")\n",
    "#from pprint import pprint\n",
    "#pprint(dirlist)"
   ]
  },
  {
   "cell_type": "code",
   "execution_count": 13,
   "metadata": {},
   "outputs": [
    {
     "name": "stdout",
     "output_type": "stream",
     "text": [
      "Usage: dev_setup.sh [options]\r\n"
     ]
    }
   ],
   "source": [
    "! echo \"Usage: dev_setup.sh [options]\""
   ]
  },
  {
   "cell_type": "code",
   "execution_count": 14,
   "metadata": {},
   "outputs": [
    {
     "name": "stdout",
     "output_type": "stream",
     "text": [
      "-r, --allow-root\r\n"
     ]
    }
   ],
   "source": [
    "!    echo   -r, --allow-root "
   ]
  },
  {
   "cell_type": "markdown",
   "metadata": {},
   "source": [
    "import shutil\n",
    "files = os.listdir(\"/home/paperspace/fastai/FastAI_2018/fastai-master/courses/dl1/data/cifar/test/\")\n",
    "for file in files:\n",
    "    if \"airplane\" in file:\n",
    "        shutil.move(\"/home/paperspace/fastai/FastAI_2018/fastai-master/courses/dl1/data/cifar/test/\" + file , \"/home/paperspace/fastai/FastAI_2018/fastai-master/courses/dl1/data/test/airplane/\" )\n",
    "        \n",
    "    if \"automobile\" in file:\n",
    "        shutil.move(\"/home/paperspace/fastai/FastAI_2018/fastai-master/courses/dl1/data/cifar/test/\" + file , \"/home/paperspace/fastai/FastAI_2018/fastai-master/courses/dl1/data/test/automobile/\" )\n",
    "        \n",
    "    if \"bird\" in file:\n",
    "        shutil.move(\"/home/paperspace/fastai/FastAI_2018/fastai-master/courses/dl1/data/cifar/test/\" + file , \"/home/paperspace/fastai/FastAI_2018/fastai-master/courses/dl1/data/test/bird/\" )\n",
    "        \n",
    "    if \"cat\" in file:\n",
    "        shutil.move(\"/home/paperspace/fastai/FastAI_2018/fastai-master/courses/dl1/data/cifar/test/\" + file , \"/home/paperspace/fastai/FastAI_2018/fastai-master/courses/dl1/data/test/cat/\" )\n",
    "        \n",
    "    if \"deer\" in file:\n",
    "        shutil.move(\"/home/paperspace/fastai/FastAI_2018/fastai-master/courses/dl1/data/cifar/test/\" + file , \"/home/paperspace/fastai/FastAI_2018/fastai-master/courses/dl1/data/test/deer/\" )\n",
    "        \n",
    "    if \"dog\" in file:\n",
    "        shutil.move(\"/home/paperspace/fastai/FastAI_2018/fastai-master/courses/dl1/data/cifar/test/\" + file , \"/home/paperspace/fastai/FastAI_2018/fastai-master/courses/dl1/data/test/dog/\" )\n",
    "        \n",
    "    if \"frog\" in file:\n",
    "        shutil.move(\"/home/paperspace/fastai/FastAI_2018/fastai-master/courses/dl1/data/cifar/test/\" + file , \"/home/paperspace/fastai/FastAI_2018/fastai-master/courses/dl1/data/test/frog/\" )\n",
    "        \n",
    "    if \"horse\" in file:\n",
    "        shutil.move(\"/home/paperspace/fastai/FastAI_2018/fastai-master/courses/dl1/data/cifar/test/\" + file , \"/home/paperspace/fastai/FastAI_2018/fastai-master/courses/dl1/data/test/horse/\" )\n",
    "    \n",
    "    if \"ship\" in file:\n",
    "        shutil.move(\"/home/paperspace/fastai/FastAI_2018/fastai-master/courses/dl1/data/cifar/test/\" + file , \"/home/paperspace/fastai/FastAI_2018/fastai-master/courses/dl1/data/test/ship/\" )\n",
    "        \n",
    "    if \"truck\" in file:\n",
    "        shutil.move(\"/home/paperspace/fastai/FastAI_2018/fastai-master/courses/dl1/data/cifar/test/\" + file , \"/home/paperspace/fastai/FastAI_2018/fastai-master/courses/dl1/data/test/truck/\" )"
   ]
  },
  {
   "cell_type": "markdown",
   "metadata": {},
   "source": [
    "\n",
    "files = os.listdir(\"/home/paperspace/fastai/FastAI_2018/fastai-master/courses/dl1/data/cifar/train/\")\n",
    "for file in files:\n",
    "    if \"airplane\" in file:\n",
    "        shutil.move(\"/home/paperspace/fastai/FastAI_2018/fastai-master/courses/dl1/data/cifar/train/\" + file , \"/home/paperspace/fastai/FastAI_2018/fastai-master/courses/dl1/data/train/airplane/\" )\n",
    "        \n",
    "    if \"automobile\" in file:\n",
    "        shutil.move(\"/home/paperspace/fastai/FastAI_2018/fastai-master/courses/dl1/data/cifar/train/\" + file , \"/home/paperspace/fastai/FastAI_2018/fastai-master/courses/dl1/data/train/automobile/\" )\n",
    "        \n",
    "    if \"bird\" in file:\n",
    "        shutil.move(\"/home/paperspace/fastai/FastAI_2018/fastai-master/courses/dl1/data/cifar/train/\" + file , \"/home/paperspace/fastai/FastAI_2018/fastai-master/courses/dl1/data/train/bird/\" )\n",
    "        \n",
    "    if \"cat\" in file:\n",
    "        shutil.move(\"/home/paperspace/fastai/FastAI_2018/fastai-master/courses/dl1/data/cifar/train/\" + file , \"/home/paperspace/fastai/FastAI_2018/fastai-master/courses/dl1/data/train/cat/\" )\n",
    "        \n",
    "    if \"deer\" in file:\n",
    "        shutil.move(\"/home/paperspace/fastai/FastAI_2018/fastai-master/courses/dl1/data/cifar/train/\" + file , \"/home/paperspace/fastai/FastAI_2018/fastai-master/courses/dl1/data/train/deer/\" )\n",
    "        \n",
    "    if \"dog\" in file:\n",
    "        shutil.move(\"/home/paperspace/fastai/FastAI_2018/fastai-master/courses/dl1/data/cifar/train/\" + file , \"/home/paperspace/fastai/FastAI_2018/fastai-master/courses/dl1/data/train/dog/\" )\n",
    "        \n",
    "    if \"frog\" in file:\n",
    "        shutil.move(\"/home/paperspace/fastai/FastAI_2018/fastai-master/courses/dl1/data/cifar/train/\" + file , \"/home/paperspace/fastai/FastAI_2018/fastai-master/courses/dl1/data/train/frog/\" )\n",
    "        \n",
    "    if \"horse\" in file:\n",
    "        shutil.move(\"/home/paperspace/fastai/FastAI_2018/fastai-master/courses/dl1/data/cifar/train/\" + file , \"/home/paperspace/fastai/FastAI_2018/fastai-master/courses/dl1/data/train/horse/\" )\n",
    "    \n",
    "    if \"ship\" in file:\n",
    "        shutil.move(\"/home/paperspace/fastai/FastAI_2018/fastai-master/courses/dl1/data/cifar/train/\" + file , \"/home/paperspace/fastai/FastAI_2018/fastai-master/courses/dl1/data/train/ship/\" )\n",
    "        \n",
    "    if \"truck\" in file:\n",
    "        shutil.move(\"/home/paperspace/fastai/FastAI_2018/fastai-master/courses/dl1/data/cifar/train/\" + file , \"/home/paperspace/fastai/FastAI_2018/fastai-master/courses/dl1/data/train/truck/\" )"
   ]
  },
  {
   "cell_type": "markdown",
   "metadata": {},
   "source": [
    "You can get the data via:\n",
    "\n",
    "    wget http://pjreddie.com/media/files/cifar.tgz    \n",
    "**Important:** Before proceeding, the student must reorganize the downloaded dataset files to match the expected directory structure, so that there is a dedicated folder for each class under 'test' and 'train', e.g.:\n",
    "\n",
    "```\n",
    "* test/airplane/airplane-1001.png\n",
    "* test/bird/bird-1043.png\n",
    "\n",
    "* train/bird/bird-10018.png\n",
    "* train/automobile/automobile-10000.png\n",
    "```\n",
    "\n",
    "The filename of the image doesn't have to include its class."
   ]
  },
  {
   "cell_type": "code",
   "execution_count": 15,
   "metadata": {},
   "outputs": [
    {
     "name": "stdout",
     "output_type": "stream",
     "text": [
      "aclImdb  aclImdb.tgz  archive  cifar_  cifar.tgz  models  test\ttmp  train\n",
      "airplane  automobile  bird  cat  deer  dog  frog  horse  ship  truck\n"
     ]
    }
   ],
   "source": [
    "from fastai.conv_learner import *\n",
    "PATH = \"/home/paperspace/fastai/FastAI_2018/fastai-master/courses/dl1/data\"\n",
    "os.makedirs(PATH,exist_ok=True)\n",
    "\n",
    "!ls {PATH}\n",
    "\n",
    "if not os.path.exists(f\"{PATH}/train/bird\"):\n",
    "   raise Exception(\"expecting class subdirs under 'train/' and 'test/'\")\n",
    "\n",
    "if not os.path.exists(f\"{PATH}/test/bird\"):\n",
    "   raise Exception(\"expecting class subdirs under 'train/' and 'test/'\")\n",
    "!ls {PATH}/test"
   ]
  },
  {
   "cell_type": "markdown",
   "metadata": {},
   "source": [
    "- classes — image labels\n",
    "- stats —When we use pre-trained models, you can call tfms_from_model which creates the necessary transforms to convert our data set into a normalized dataset based on the means and standard deviations of each channel in the original model that was trained in. Since we are training a model from scratch, we ned to tell it the mean and standard deviation of our data to normalize it"
   ]
  },
  {
   "cell_type": "code",
   "execution_count": 16,
   "metadata": {},
   "outputs": [],
   "source": [
    "#import os\n",
    "#import numpy as np\n",
    "#from PIL import Image\n",
    "\n",
    "#TRN_FOLDER = \"/home/paperspace/fastai/FastAI_2018/fastai-master/courses/dl1/data/train/\"\n",
    "#folders = os.listdir(TRN_FOLDER)\n",
    "\n",
    "#x = np.empty((32,32,3,1), float)\n",
    "\n",
    "#for folder in folders:\n",
    "#    TRN_PATH = \"/home/paperspace/fastai/FastAI_2018/fastai-master/courses/dl1/data/train/\" + folder\n",
    "#    files = os.listdir(TRN_PATH)\n",
    "#    for f in files:\n",
    "#        try:\n",
    "#            x = np.append(x, np.array(Image.open(TRN_PATH+f)), axis=3)\n",
    "#        except:\n",
    "#            pass"
   ]
  },
  {
   "cell_type": "code",
   "execution_count": 17,
   "metadata": {},
   "outputs": [],
   "source": [
    "PATH_ = \"/home/paperspace/fastai/FastAI_2018/fastai-master/courses/dl1/data/\"\n",
    "files = os.listdir(PATH_)"
   ]
  },
  {
   "cell_type": "code",
   "execution_count": 18,
   "metadata": {},
   "outputs": [],
   "source": [
    "# CIFR has 10 casses\n",
    "classes = ('plane', 'car', 'bird', 'cat', 'deer', 'dog', 'frog', 'horse', 'ship', 'truck')\n",
    "\n",
    "# mean and Std dev fir R, G, B channel for images, found using numpy\n",
    "stats = (np.array([ 0.4914 ,  0.48216,  0.44653]), np.array([ 0.24703,  0.24349,  0.26159]))"
   ]
  },
  {
   "cell_type": "markdown",
   "metadata": {},
   "source": [
    "- tfms — For CIFAR 10 data augmentation, people typically do horizontal flip and black padding around the edge and randomly select 32 by 32 area within the padded image"
   ]
  },
  {
   "cell_type": "code",
   "execution_count": 19,
   "metadata": {},
   "outputs": [],
   "source": [
    "\n",
    "def get_data(sz,bs):\n",
    "    tfms = tfms_from_stats(stats, sz, aug_tfms=[RandomFlip()], pad=sz//8)\n",
    "    return ImageClassifierData.from_paths(PATH, val_name='test', tfms=tfms, bs=bs)\n",
    "\n",
    "# padding adds 4 pixles from all sides, sz is 32\n",
    "# flipping images randomly & horizontally\n",
    "#  tfms_from_stats -training data from scratch and hence this function"
   ]
  },
  {
   "cell_type": "code",
   "execution_count": 20,
   "metadata": {},
   "outputs": [],
   "source": [
    "#? tfms_from_stats"
   ]
  },
  {
   "cell_type": "code",
   "execution_count": 21,
   "metadata": {},
   "outputs": [],
   "source": [
    "bs=256"
   ]
  },
  {
   "cell_type": "markdown",
   "metadata": {},
   "source": [
    "### Look at data"
   ]
  },
  {
   "cell_type": "code",
   "execution_count": 22,
   "metadata": {},
   "outputs": [],
   "source": [
    "data = get_data(32,4)"
   ]
  },
  {
   "cell_type": "code",
   "execution_count": 23,
   "metadata": {},
   "outputs": [],
   "source": [
    "x,y=next(iter(data.trn_dl))"
   ]
  },
  {
   "cell_type": "code",
   "execution_count": 24,
   "metadata": {},
   "outputs": [
    {
     "data": {
      "image/png": "[encoded data removed]",
      "text/plain": [
       "<Figure size 432x288 with 1 Axes>"
      ]
     },
     "metadata": {
      "needs_background": "light"
     },
     "output_type": "display_data"
    }
   ],
   "source": [
    "plt.imshow(data.trn_ds.denorm(x)[0]);"
   ]
  },
  {
   "cell_type": "code",
   "execution_count": 25,
   "metadata": {},
   "outputs": [
    {
     "data": {
      "image/png": "[encoded data removed]",
      "text/plain": [
       "<Figure size 432x288 with 1 Axes>"
      ]
     },
     "metadata": {
      "needs_background": "light"
     },
     "output_type": "display_data"
    }
   ],
   "source": [
    "plt.imshow(data.trn_ds.denorm(x)[1]);"
   ]
  },
  {
   "cell_type": "markdown",
   "metadata": {},
   "source": [
    "## Fully connected model( Dot product for all pixles)"
   ]
  },
  {
   "cell_type": "markdown",
   "metadata": {},
   "source": [
    "has how accuracy - 47 %"
   ]
  },
  {
   "cell_type": "code",
   "execution_count": 27,
   "metadata": {},
   "outputs": [],
   "source": [
    "data = get_data(32,bs)"
   ]
  },
  {
   "cell_type": "code",
   "execution_count": 28,
   "metadata": {},
   "outputs": [],
   "source": [
    "lr=1e-2"
   ]
  },
  {
   "cell_type": "markdown",
   "metadata": {},
   "source": [
    "nn.ModuleList — whenever you create a list of layers in PyTorch, you have to wrap it in ModuleList to register these as attributes."
   ]
  },
  {
   "cell_type": "code",
   "execution_count": 29,
   "metadata": {},
   "outputs": [],
   "source": [
    "class SimpleNet(nn.Module):\n",
    "    def __init__(self, layers):\n",
    "        super().__init__()\n",
    "# class showing list of fully connected layers\n",
    "        self.layers = nn.ModuleList([\n",
    "            nn.Linear(layers[i], layers[i + 1]) for i in range(len(layers) - 1)])\n",
    "        \n",
    "    def forward(self, x):\n",
    "# faltten data because its a fully connected layer\n",
    "        x = x.view(x.size(0), -1)\n",
    "        for l in self.layers:\n",
    "#  LINEAR TRANSFORMATION\n",
    "            l_x = l(x)\n",
    "#  RELU\n",
    "            x = F.relu(l_x)\n",
    "# FINALLY DO a SOFT MAX\n",
    "        return F.log_softmax(l_x, dim=-1)"
   ]
  },
  {
   "cell_type": "markdown",
   "metadata": {},
   "source": [
    "rather than calling fit function, we create a learn object from a custom model. ConfLearner.from_model_data takes standard PyTorch model and model data object."
   ]
  },
  {
   "cell_type": "code",
   "execution_count": 30,
   "metadata": {},
   "outputs": [],
   "source": [
    "# Create a learn bject from custom model (Convolutional learner)\n",
    "# 32*32*3- 3072\n",
    "# 40 - size of middle leayer\n",
    "# 10 number of classes\n",
    "learn = ConvLearner.from_model_data(SimpleNet([32*32*3, 40,10]), data)"
   ]
  },
  {
   "cell_type": "code",
   "execution_count": 31,
   "metadata": {},
   "outputs": [
    {
     "data": {
      "text/plain": [
       "(SimpleNet(\n",
       "   (layers): ModuleList(\n",
       "     (0): Linear(in_features=3072, out_features=40, bias=True)\n",
       "     (1): Linear(in_features=40, out_features=10, bias=True)\n",
       "   )\n",
       " ), [122880, 40, 400, 10])"
      ]
     },
     "execution_count": 31,
     "metadata": {},
     "output_type": "execute_result"
    }
   ],
   "source": [
    "learn, [o.numel() for o in learn.model.parameters()]\n",
    "# 3072*40 = 1229880"
   ]
  },
  {
   "cell_type": "code",
   "execution_count": 32,
   "metadata": {},
   "outputs": [
    {
     "data": {
      "text/plain": [
       "OrderedDict([('Linear-1',\n",
       "              OrderedDict([('input_shape', [-1, 3072]),\n",
       "                           ('output_shape', [-1, 40]),\n",
       "                           ('trainable', True),\n",
       "                           ('nb_params', tensor(122920))])),\n",
       "             ('Linear-2',\n",
       "              OrderedDict([('input_shape', [-1, 40]),\n",
       "                           ('output_shape', [-1, 10]),\n",
       "                           ('trainable', True),\n",
       "                           ('nb_params', tensor(410))]))])"
      ]
     },
     "execution_count": 32,
     "metadata": {},
     "output_type": "execute_result"
    }
   ],
   "source": [
    "learn.summary()\n"
   ]
  },
  {
   "cell_type": "code",
   "execution_count": 33,
   "metadata": {},
   "outputs": [
    {
     "data": {
      "application/vnd.jupyter.widget-view+json": {
       "model_id": "f9c959fca45742a59ce6f95b416319b3",
       "version_major": 2,
       "version_minor": 0
      },
      "text/plain": [
       "HBox(children=(IntProgress(value=0, description='Epoch', max=1, style=ProgressStyle(description_width='initial…"
      ]
     },
     "metadata": {},
     "output_type": "display_data"
    },
    {
     "name": "stdout",
     "output_type": "stream",
     "text": [
      " 76%|███████▌  | 149/196 [00:20<00:07,  5.90it/s, loss=6.65]"
     ]
    }
   ],
   "source": [
    "learn.lr_find()"
   ]
  },
  {
   "cell_type": "code",
   "execution_count": 34,
   "metadata": {},
   "outputs": [],
   "source": [
    "#file=\"dog\"\n",
    "#dir_name = \"/home/paperspace/fastai/FastAI_2018/fastai-master/courses/dl1/data/test/\" + file + \"/\" + file\n",
    "\n",
    "#import os, shutil\n",
    "#shutil.rmtree(dir_name)"
   ]
  },
  {
   "cell_type": "code",
   "execution_count": 35,
   "metadata": {},
   "outputs": [],
   "source": [
    "#import subprocess\n",
    "#file=\"dog\"\n",
    "#dir_name = \"/home/paperspace/fastai/FastAI_2018/fastai-master/courses/dl1/data/test/\" + file + \"/\" + file\n",
    "#subprocess.Popen(['rm', '-rf', dir_name])"
   ]
  },
  {
   "cell_type": "code",
   "execution_count": 36,
   "metadata": {},
   "outputs": [
    {
     "data": {
      "image/png": "[encoded data removed]",
      "text/plain": [
       "<Figure size 432x288 with 1 Axes>"
      ]
     },
     "metadata": {
      "needs_background": "light"
     },
     "output_type": "display_data"
    }
   ],
   "source": [
    "learn.sched.plot()"
   ]
  },
  {
   "cell_type": "code",
   "execution_count": 37,
   "metadata": {},
   "outputs": [],
   "source": [
    "# ?? learn.fit"
   ]
  },
  {
   "cell_type": "code",
   "execution_count": 38,
   "metadata": {},
   "outputs": [],
   "source": [
    "#? from_paths val_name"
   ]
  },
  {
   "cell_type": "code",
   "execution_count": 39,
   "metadata": {},
   "outputs": [
    {
     "data": {
      "application/vnd.jupyter.widget-view+json": {
       "model_id": "6dc7311b0eb841e7b9a7da2848ea422f",
       "version_major": 2,
       "version_minor": 0
      },
      "text/plain": [
       "HBox(children=(IntProgress(value=0, description='Epoch', max=2, style=ProgressStyle(description_width='initial…"
      ]
     },
     "metadata": {},
     "output_type": "display_data"
    },
    {
     "name": "stdout",
     "output_type": "stream",
     "text": [
      "epoch      trn_loss   val_loss   accuracy                   \n",
      "    0      1.76047    1.647267   0.417667  \n",
      "    1      1.671727   1.59151    0.433889                   \n",
      "CPU times: user 1min 17s, sys: 3min 31s, total: 4min 48s\n",
      "Wall time: 57.5 s\n"
     ]
    }
   ],
   "source": [
    "try:\n",
    "    %time learn.fit(lr, 2)\n",
    "except:\n",
    "    pass"
   ]
  },
  {
   "cell_type": "code",
   "execution_count": 40,
   "metadata": {},
   "outputs": [
    {
     "data": {
      "application/vnd.jupyter.widget-view+json": {
       "model_id": "43bb884200834662b44720d42190b259",
       "version_major": 2,
       "version_minor": 0
      },
      "text/plain": [
       "HBox(children=(IntProgress(value=0, description='Epoch', max=2, style=ProgressStyle(description_width='initial…"
      ]
     },
     "metadata": {},
     "output_type": "display_data"
    },
    {
     "name": "stdout",
     "output_type": "stream",
     "text": [
      "epoch      trn_loss   val_loss   accuracy                   \n",
      "    0      1.607765   1.527007   0.466667  \n",
      "    1      1.595193   1.514125   0.466556                   \n",
      "CPU times: user 1min 19s, sys: 3min 40s, total: 4min 59s\n",
      "Wall time: 56.2 s\n"
     ]
    },
    {
     "data": {
      "text/plain": [
       "[1.5141246858172948, 0.4665555555290646]"
      ]
     },
     "execution_count": 40,
     "metadata": {},
     "output_type": "execute_result"
    }
   ],
   "source": [
    "%time learn.fit(lr, 2, cycle_len=1)"
   ]
  },
  {
   "cell_type": "markdown",
   "metadata": {},
   "source": [
    "with a hidden layer model with 122,880 parameters, we achieved 46.9% accuracy. Let’s improve this and gradually build up to a basic ResNet architecture."
   ]
  },
  {
   "cell_type": "markdown",
   "metadata": {},
   "source": [
    "## CNN \n",
    "### ( Performs a sum product of  3*3 , with 3*3 filter is done with the whole filter)"
   ]
  },
  {
   "cell_type": "markdown",
   "metadata": {},
   "source": [
    "- Let’s replace a fully connected model with a convolutional model. \n",
    "- Fully connected layer is simply doing a dot product. That is why the weight matrix is big (3072 input * 40 = 122880). \n",
    "- We are not using the parameters very efficiently because every single pixel in the input has a different weight.\n",
    "- What we want to do is a group of 3 by 3 pixels that have particular patterns to them (i.e. convolution).\n",
    "- We will use a filter with three by three kernel. When there are multiple filters, the output will have additional dimension."
   ]
  },
  {
   "cell_type": "code",
   "execution_count": 41,
   "metadata": {},
   "outputs": [],
   "source": [
    "class ConvNet(nn.Module):\n",
    "    def __init__(self, layers, c):\n",
    "        super().__init__()\n",
    "        self.layers = nn.ModuleList([\n",
    "        # same as FCM but replave nn linear with nn.Conv2D\n",
    "        # Kernal size\n",
    "        # Stride conv - move ervey time by 2 pixels during convolution\n",
    "            nn.Conv2d(layers[i], layers[i + 1], kernel_size=3, stride=2)\n",
    "            for i in range(len(layers) - 1)])\n",
    "        \n",
    "        #adaptive maxpool is where you determine how big of a resolution to create \n",
    "        #instead of specifying how big of an area you want to pool\n",
    "        #Note: there are no weights within max pooling\n",
    "        self.pool = nn.AdaptiveMaxPool2d(1)\n",
    "        self.out = nn.Linear(layers[-1], c)\n",
    "        \n",
    "    def forward(self, x):\n",
    "        for l in self.layers: x = F.relu(l(x))\n",
    "        x = self.pool(x)\n",
    "        x = x.view(x.size(0), -1)\n",
    "        return F.log_softmax(self.out(x), dim=-1)"
   ]
  },
  {
   "cell_type": "markdown",
   "metadata": {},
   "source": [
    "- Replace nn.Linear with nn.Conv2d\n",
    "- First two parameters are exactly the same as nn.Linear — the number of features coming in, and the number of features coming out\n",
    "- kernel_size=3 , the size of the filter\n",
    "- stride=2 will use every other 3 by 3 area which will halve the output resolution in each dimension (i.e. it has the same effect as 2 by 2 max-pooling)"
   ]
  },
  {
   "cell_type": "markdown",
   "metadata": {},
   "source": [
    "- x = x.view(x.size(0), -1) — x has a shape of # of the features by 1 by 1, so it will remove the last two layers.- \n",
    "- This model is called “fully convolutional network” — where every layer is convolutional except for the very last."
   ]
  },
  {
   "cell_type": "markdown",
   "metadata": {},
   "source": [
    "- The default final learning rate lr_find tries is 10. If the loss is still getting better at that point, you can overwrite by specifying end_lr "
   ]
  },
  {
   "cell_type": "code",
   "execution_count": 85,
   "metadata": {},
   "outputs": [],
   "source": [
    "# 3 Size of RGB kernel\n",
    "# 10 Number of output channels\n",
    "learn = ConvLearner.from_model_data(ConvNet([3, 20, 40, 80], 10), data)"
   ]
  },
  {
   "cell_type": "markdown",
   "metadata": {},
   "source": [
    "- ConvNet([3, 20, 40, 80], 10) — It start with 3 RGB channels, 20, 40, 80 features, then 10 classes to predict.\n",
    "- AdaptiveMaxPool2d — This followed by a linear layer is how you get from 3 by 3 down to a prediction of one of 10 classes and is now a standard for state-of-the-art algorithms. The very last layer, we do a special kind of max-pooling for which you specify the output activation resolution rather than how big of an area to poll. In other words, here we do 3 by 3 max-pool which is equivalent of 1 by 1 adaptive max-pool."
   ]
  },
  {
   "cell_type": "code",
   "execution_count": 43,
   "metadata": {},
   "outputs": [
    {
     "data": {
      "text/plain": [
       "OrderedDict([('Conv2d-1',\n",
       "              OrderedDict([('input_shape', [-1, 3, 32, 32]),\n",
       "                           ('output_shape', [-1, 20, 15, 15]),\n",
       "                           ('trainable', True),\n",
       "                           ('nb_params', tensor(560))])),\n",
       "             ('Conv2d-2',\n",
       "              OrderedDict([('input_shape', [-1, 20, 15, 15]),\n",
       "                           ('output_shape', [-1, 40, 7, 7]),\n",
       "                           ('trainable', True),\n",
       "                           ('nb_params', tensor(7240))])),\n",
       "             ('Conv2d-3',\n",
       "              OrderedDict([('input_shape', [-1, 40, 7, 7]),\n",
       "                           ('output_shape', [-1, 80, 3, 3]),\n",
       "                           ('trainable', True),\n",
       "                           ('nb_params', tensor(28880))])),\n",
       "             ('AdaptiveMaxPool2d-4',\n",
       "              OrderedDict([('input_shape', [-1, 80, 3, 3]),\n",
       "                           ('output_shape', [-1, 80, 1, 1]),\n",
       "                           ('nb_params', 0)])),\n",
       "             ('Linear-5',\n",
       "              OrderedDict([('input_shape', [-1, 80]),\n",
       "                           ('output_shape', [-1, 10]),\n",
       "                           ('trainable', True),\n",
       "                           ('nb_params', tensor(810))]))])"
      ]
     },
     "execution_count": 43,
     "metadata": {},
     "output_type": "execute_result"
    }
   ],
   "source": [
    "learn.summary()"
   ]
  },
  {
   "cell_type": "code",
   "execution_count": 44,
   "metadata": {},
   "outputs": [
    {
     "data": {
      "application/vnd.jupyter.widget-view+json": {
       "model_id": "c4a7c489c20f49e6bcf3f24f96e3bf6b",
       "version_major": 2,
       "version_minor": 0
      },
      "text/plain": [
       "HBox(children=(IntProgress(value=0, description='Epoch', max=1, style=ProgressStyle(description_width='initial…"
      ]
     },
     "metadata": {},
     "output_type": "display_data"
    },
    {
     "name": "stdout",
     "output_type": "stream",
     "text": [
      " 77%|███████▋  | 151/196 [00:20<00:07,  6.31it/s, loss=2.32]"
     ]
    }
   ],
   "source": [
    "learn.lr_find(end_lr=100)"
   ]
  },
  {
   "cell_type": "code",
   "execution_count": 45,
   "metadata": {},
   "outputs": [
    {
     "data": {
      "image/png": "[encoded data removed]",
      "text/plain": [
       "<Figure size 432x288 with 1 Axes>"
      ]
     },
     "metadata": {
      "needs_background": "light"
     },
     "output_type": "display_data"
    }
   ],
   "source": [
    "learn.sched.plot()"
   ]
  },
  {
   "cell_type": "code",
   "execution_count": 46,
   "metadata": {},
   "outputs": [
    {
     "data": {
      "application/vnd.jupyter.widget-view+json": {
       "model_id": "5c7458d0072c46458cda09856d9118fc",
       "version_major": 2,
       "version_minor": 0
      },
      "text/plain": [
       "HBox(children=(IntProgress(value=0, description='Epoch', max=2, style=ProgressStyle(description_width='initial…"
      ]
     },
     "metadata": {},
     "output_type": "display_data"
    },
    {
     "name": "stdout",
     "output_type": "stream",
     "text": [
      "epoch      trn_loss   val_loss   accuracy                   \n",
      "    0      1.685987   1.576746   0.414889  \n",
      "    1      1.50595    1.429604   0.484778                   \n",
      "CPU times: user 1min 21s, sys: 3min 49s, total: 5min 11s\n",
      "Wall time: 57.6 s\n"
     ]
    },
    {
     "data": {
      "text/plain": [
       "[1.4296041584014894, 0.48477777772479586]"
      ]
     },
     "execution_count": 46,
     "metadata": {},
     "output_type": "execute_result"
    }
   ],
   "source": [
    "%time learn.fit(1e-1, 2)"
   ]
  },
  {
   "cell_type": "code",
   "execution_count": 47,
   "metadata": {},
   "outputs": [
    {
     "data": {
      "application/vnd.jupyter.widget-view+json": {
       "model_id": "67686106afb64e5e8ab88d7d1ee21fc2",
       "version_major": 2,
       "version_minor": 0
      },
      "text/plain": [
       "HBox(children=(IntProgress(value=0, description='Epoch', max=4, style=ProgressStyle(description_width='initial…"
      ]
     },
     "metadata": {},
     "output_type": "display_data"
    },
    {
     "name": "stdout",
     "output_type": "stream",
     "text": [
      "epoch      trn_loss   val_loss   accuracy                   \n",
      "    0      1.319599   1.262657   0.546444  \n",
      "    1      1.280676   1.216344   0.562556                   \n",
      "    2      1.241119   1.180489   0.574556                   \n",
      "    3      1.198909   1.143715   0.591                      \n",
      "CPU times: user 2min 41s, sys: 7min 41s, total: 10min 23s\n",
      "Wall time: 1min 54s\n"
     ]
    },
    {
     "data": {
      "text/plain": [
       "[1.1437147920396593, 0.5910000001589457]"
      ]
     },
     "execution_count": 47,
     "metadata": {},
     "output_type": "execute_result"
    }
   ],
   "source": [
    "# Accuracy is not improved\n",
    "%time learn.fit(1e-1, 4, cycle_len=1)"
   ]
  },
  {
   "cell_type": "markdown",
   "metadata": {},
   "source": [
    "It flattened out around 60% accuracy. Considering it uses about 30,000 parameters (compared to 47% with 122k parameters)\n",
    "Time per epoch is about the same since their architectures are both simple and most of time is spent doing memory transfer."
   ]
  },
  {
   "cell_type": "markdown",
   "metadata": {},
   "source": [
    "## Refactored"
   ]
  },
  {
   "cell_type": "markdown",
   "metadata": {},
   "source": [
    "Improving redability and reducing complexity"
   ]
  },
  {
   "cell_type": "markdown",
   "metadata": {},
   "source": [
    "Simplify forward function by creating ConvLayer (our first custom layer!). In PyTorch, layer definition and neural network definitions are identical. Anytime you have a layer, you can use it as a neural net, when you have a neural net, you can use it as a layer."
   ]
  },
  {
   "cell_type": "code",
   "execution_count": 87,
   "metadata": {},
   "outputs": [],
   "source": [
    "class ConvLayer(nn.Module):\n",
    "# same code as CNN except padding is now added\n",
    "    def __init__(self, ni, nf):\n",
    "        super().__init__()\n",
    "        self.conv = nn.Conv2d(ni, nf, kernel_size=3, stride=2, padding=1)\n",
    "        \n",
    "    def forward(self, x): return F.relu(self.conv(x))"
   ]
  },
  {
   "cell_type": "markdown",
   "metadata": {},
   "source": [
    "padding=1 — When you do convolution the image shrink by 1 pixel on each side. So it does not go from 32 by 32 to 16 by 16 but actually 15 by 15. padding will add a border so we can keep the edge pixel information. It is not as big of a deal for a big image, but when it’s down to 4 by 4, you really don’t want to throw away a whole piece."
   ]
  },
  {
   "cell_type": "code",
   "execution_count": 88,
   "metadata": {},
   "outputs": [],
   "source": [
    "class ConvNet2(nn.Module):\n",
    "\n",
    "    def __init__(self, layers, c):\n",
    "        super().__init__()\n",
    "        self.layers = nn.ModuleList([ConvLayer(layers[i], layers[i + 1])\n",
    "            for i in range(len(layers) - 1)])\n",
    "        self.out = nn.Linear(layers[-1], c)\n",
    "        \n",
    "    def forward(self, x):\n",
    "        for l in self.layers: x = l(x)\n",
    "        x = F.adaptive_max_pool2d(x, 1)\n",
    "        x = x.view(x.size(0), -1)\n",
    "        return F.log_softmax(self.out(x), dim=-1)"
   ]
  },
  {
   "cell_type": "markdown",
   "metadata": {},
   "source": [
    "Another difference from the last model is that nn.AdaptiveMaxPool2d does not have any state (i.e. no weights). So we can just call it as a function F.adaptive_max_pool2d ."
   ]
  },
  {
   "cell_type": "code",
   "execution_count": 50,
   "metadata": {},
   "outputs": [],
   "source": [
    "learn = ConvLearner.from_model_data(ConvNet2([3, 20, 40, 80], 10), data)"
   ]
  },
  {
   "cell_type": "code",
   "execution_count": 51,
   "metadata": {},
   "outputs": [
    {
     "data": {
      "text/plain": [
       "OrderedDict([('Conv2d-1',\n",
       "              OrderedDict([('input_shape', [-1, 3, 32, 32]),\n",
       "                           ('output_shape', [-1, 20, 16, 16]),\n",
       "                           ('trainable', True),\n",
       "                           ('nb_params', tensor(560))])),\n",
       "             ('ConvLayer-2',\n",
       "              OrderedDict([('input_shape', [-1, 3, 32, 32]),\n",
       "                           ('output_shape', [-1, 20, 16, 16]),\n",
       "                           ('nb_params', 0)])),\n",
       "             ('Conv2d-3',\n",
       "              OrderedDict([('input_shape', [-1, 20, 16, 16]),\n",
       "                           ('output_shape', [-1, 40, 8, 8]),\n",
       "                           ('trainable', True),\n",
       "                           ('nb_params', tensor(7240))])),\n",
       "             ('ConvLayer-4',\n",
       "              OrderedDict([('input_shape', [-1, 20, 16, 16]),\n",
       "                           ('output_shape', [-1, 40, 8, 8]),\n",
       "                           ('nb_params', 0)])),\n",
       "             ('Conv2d-5',\n",
       "              OrderedDict([('input_shape', [-1, 40, 8, 8]),\n",
       "                           ('output_shape', [-1, 80, 4, 4]),\n",
       "                           ('trainable', True),\n",
       "                           ('nb_params', tensor(28880))])),\n",
       "             ('ConvLayer-6',\n",
       "              OrderedDict([('input_shape', [-1, 40, 8, 8]),\n",
       "                           ('output_shape', [-1, 80, 4, 4]),\n",
       "                           ('nb_params', 0)])),\n",
       "             ('Linear-7',\n",
       "              OrderedDict([('input_shape', [-1, 80]),\n",
       "                           ('output_shape', [-1, 10]),\n",
       "                           ('trainable', True),\n",
       "                           ('nb_params', tensor(810))]))])"
      ]
     },
     "execution_count": 51,
     "metadata": {},
     "output_type": "execute_result"
    }
   ],
   "source": [
    "learn.summary()"
   ]
  },
  {
   "cell_type": "code",
   "execution_count": 52,
   "metadata": {},
   "outputs": [
    {
     "data": {
      "application/vnd.jupyter.widget-view+json": {
       "model_id": "a7203bf5ca8545deb963125ad28d85ec",
       "version_major": 2,
       "version_minor": 0
      },
      "text/plain": [
       "HBox(children=(IntProgress(value=0, description='Epoch', max=2, style=ProgressStyle(description_width='initial…"
      ]
     },
     "metadata": {},
     "output_type": "display_data"
    },
    {
     "name": "stdout",
     "output_type": "stream",
     "text": [
      "epoch      trn_loss   val_loss   accuracy                   \n",
      "    0      1.682229   1.6229     0.409778  \n",
      "    1      1.522229   1.459755   0.469444                   \n",
      "CPU times: user 1min 46s, sys: 4min 29s, total: 6min 16s\n",
      "Wall time: 1min 14s\n"
     ]
    },
    {
     "data": {
      "text/plain": [
       "[1.4597550552156235, 0.46944444439146255]"
      ]
     },
     "execution_count": 52,
     "metadata": {},
     "output_type": "execute_result"
    }
   ],
   "source": [
    "%time learn.fit(1e-1, 2)"
   ]
  },
  {
   "cell_type": "code",
   "execution_count": 53,
   "metadata": {},
   "outputs": [
    {
     "data": {
      "application/vnd.jupyter.widget-view+json": {
       "model_id": "c684fa131cd04b899de3dca7a8f54ef6",
       "version_major": 2,
       "version_minor": 0
      },
      "text/plain": [
       "HBox(children=(IntProgress(value=0, description='Epoch', max=2, style=ProgressStyle(description_width='initial…"
      ]
     },
     "metadata": {},
     "output_type": "display_data"
    },
    {
     "name": "stdout",
     "output_type": "stream",
     "text": [
      "epoch      trn_loss   val_loss   accuracy                   \n",
      "    0      1.337275   1.262317   0.542889  \n",
      "    1      1.279261   1.197496   0.570333                   \n",
      "CPU times: user 1min 44s, sys: 4min 24s, total: 6min 9s\n",
      "Wall time: 1min 13s\n"
     ]
    },
    {
     "data": {
      "text/plain": [
       "[1.1974960157606336, 0.5703333334392972]"
      ]
     },
     "execution_count": 53,
     "metadata": {},
     "output_type": "execute_result"
    }
   ],
   "source": [
    "%time learn.fit(1e-1, 2, cycle_len=1)"
   ]
  },
  {
   "cell_type": "markdown",
   "metadata": {},
   "source": [
    "## BatchNorm"
   ]
  },
  {
   "cell_type": "markdown",
   "metadata": {},
   "source": [
    "Makes network mode resiliant, makes it easier to train inputs - process of normalizing all batches  not just inputs\n",
    ", in a nutshell:\n",
    "- increases resilance of the training\n",
    "- increases the number of layers that can be trained\n",
    "- increases the learning rate\n"
   ]
  },
  {
   "cell_type": "markdown",
   "metadata": {},
   "source": [
    "- The last model, when we tried to add more layers, we had trouble training. \n",
    "- The reason we had trouble training was that if we used larger learning rates, it would go off to NaN and if we used smaller learning rate, it would take forever and doesn’t have a chance to explore properly — so it was not resilient.-\n",
    "- To make it resilient, we will use something called batch normalization. BatchNorm came out about two years ago and it has been quite transformative since it suddenly makes it really easy to train deeper networks.\n",
    "- We can simply use nn.BatchNorm but to learn about it, we will write it from scratch.\n",
    "- It is unlikely that the weight matrices on average are not going to cause your activations to keep getting smaller and smaller or keep getting bigger and bigger. It is important to keep them at reasonable scale. So we start things off with zero-mean standard deviation one by normalizing the input. What we really want to do is to do this for all layers, not just the inputs"
   ]
  },
  {
   "cell_type": "markdown",
   "metadata": {},
   "source": [
    "https://www.youtube.com/watch?v=nUUqwaxLnWs"
   ]
  },
  {
   "cell_type": "code",
   "execution_count": 55,
   "metadata": {},
   "outputs": [],
   "source": [
    "class BnLayer(nn.Module):\n",
    "    #\n",
    "    def __init__(self, ni, nf, stride=2, kernel_size=3):\n",
    "        super().__init__()\n",
    "        self.conv = nn.Conv2d(ni, nf, kernel_size=kernel_size, stride=stride,\n",
    "                              bias=False, padding=1)\n",
    "        #create a new added value for each channel in this case 3 zeros\n",
    "        self.a = nn.Parameter(torch.zeros(nf,1,1))\n",
    "        \n",
    "        # create a new multiplier for each channel in this case 3 1s\n",
    "        self.m = nn.Parameter(torch.ones(nf,1,1))\n",
    "        \n",
    "    def forward(self, x):\n",
    "        x = F.relu(self.conv(x))\n",
    "        x_chan = x.transpose(0,1).contiguous().view(x.size(1), -1)\n",
    "        if self.training:\n",
    "        # normalizing the batches\n",
    "            self.means = x_chan.mean(1)[:,None,None]\n",
    "            self.stds  = x_chan.std (1)[:,None,None]\n",
    "        return (x-self.means) / self.stds *self.m + self.a"
   ]
  },
  {
   "cell_type": "markdown",
   "metadata": {},
   "source": [
    "Turns out this is not enough since SGD is bloody-minded. If SGD decided that it wants matrix to be bigger/smaller overall, doing (x=self.means) / self.stds is not enough because SGD will undo it and try to do it again in the next mini-batch. So we will add two parameters: a — adder (initial value zeros) and m — multiplier (initial value ones) for each channel.\n",
    "Parameter tells PyTorch that it is allowed to learn these as weights."
   ]
  },
  {
   "cell_type": "markdown",
   "metadata": {},
   "source": [
    "Why does this work? If it wants to scale the layer up, it does not have to scale up every single value in the matrix. It can just scale up this single trio of numbers self.m , if it wants to shift it all up or down a bit, it does not have to shift the entire weight matrix, they can just shift this trio of numbers self.a. Intuition: We are normalizing the data and then we are saying you can then shift it and scale it using far fewer parameters than would have been necessary if it were to actually shift and scale the entire set of convolutional filters. In practice, it allows us to increase our learning rates, it increase the resilience of training, and it allows us to add more layers and still train effectively.\n"
   ]
  },
  {
   "cell_type": "markdown",
   "metadata": {},
   "source": [
    "The other thing batch norm does is that it regularizes, in other words, you can often decrease or remove dropout or weight decay. The reason why is each mini-batch is going to have a different mean and a different standard deviation to the previous mini-batch. So they keep changing and it is changing the meaning of the filters in a subtle way acting as a noise (i.e. regularization)."
   ]
  },
  {
   "cell_type": "code",
   "execution_count": 90,
   "metadata": {},
   "outputs": [],
   "source": [
    "class ConvBnNet(nn.Module):\n",
    "    def __init__(self, layers, c):\n",
    "        super().__init__()\n",
    "        # added a single conv layer at the start with a bigger kernel size, \n",
    "        # new architectures use 5 by 5 or 7 by 7 and have a richer input, here 10 features\n",
    "        self.conv1 = nn.Conv2d(3, 10, kernel_size=5, stride=1, padding=2)\n",
    "        self.layers = nn.ModuleList([BnLayer(layers[i], layers[i + 1])\n",
    "            for i in range(len(layers) - 1)])\n",
    "        self.out = nn.Linear(layers[-1], c)\n",
    "        \n",
    "    def forward(self, x):\n",
    "        # single initial conv layer\n",
    "        x = self.conv1(x)\n",
    "        for l in self.layers: x = l(x)\n",
    "        x = F.adaptive_max_pool2d(x, 1)\n",
    "        x = x.view(x.size(0), -1)\n",
    "        return F.log_softmax(self.out(x), dim=-1)"
   ]
  },
  {
   "cell_type": "markdown",
   "metadata": {},
   "source": [
    "If you have a pre-trained network for specific values of those means and standard deviations in batch norm, if you change them, it changes the meaning of those pre-trained layers. In fast.ai, always by default, it will not touch those means and standard deviations if your layer is frozen. As soon as you un-freeze it, it will start updating them unless you set learn.bn_freeze=True. In practice, this often seems to work a lot better for pre-trained models particularly if you are working with data that is quite similar to what the pre-trained model was trained with."
   ]
  },
  {
   "cell_type": "code",
   "execution_count": 94,
   "metadata": {},
   "outputs": [],
   "source": [
    "# instead of 3 in previous examples we use 10\n",
    "learn = ConvLearner.from_model_data(ConvBnNet([10, 20, 40, 80, 160], 10), data)"
   ]
  },
  {
   "cell_type": "code",
   "execution_count": 95,
   "metadata": {},
   "outputs": [
    {
     "data": {
      "text/plain": [
       "OrderedDict([('Conv2d-1',\n",
       "              OrderedDict([('input_shape', [-1, 3, 32, 32]),\n",
       "                           ('output_shape', [-1, 10, 32, 32]),\n",
       "                           ('trainable', True),\n",
       "                           ('nb_params', tensor(760))])),\n",
       "             ('Conv2d-2',\n",
       "              OrderedDict([('input_shape', [-1, 10, 32, 32]),\n",
       "                           ('output_shape', [-1, 20, 16, 16]),\n",
       "                           ('trainable', True),\n",
       "                           ('nb_params', tensor(1800))])),\n",
       "             ('BnLayer-3',\n",
       "              OrderedDict([('input_shape', [-1, 10, 32, 32]),\n",
       "                           ('output_shape', [-1, 20, 16, 16]),\n",
       "                           ('nb_params', 0)])),\n",
       "             ('Conv2d-4',\n",
       "              OrderedDict([('input_shape', [-1, 20, 16, 16]),\n",
       "                           ('output_shape', [-1, 40, 8, 8]),\n",
       "                           ('trainable', True),\n",
       "                           ('nb_params', tensor(7200))])),\n",
       "             ('BnLayer-5',\n",
       "              OrderedDict([('input_shape', [-1, 20, 16, 16]),\n",
       "                           ('output_shape', [-1, 40, 8, 8]),\n",
       "                           ('nb_params', 0)])),\n",
       "             ('Conv2d-6',\n",
       "              OrderedDict([('input_shape', [-1, 40, 8, 8]),\n",
       "                           ('output_shape', [-1, 80, 4, 4]),\n",
       "                           ('trainable', True),\n",
       "                           ('nb_params', tensor(28800))])),\n",
       "             ('BnLayer-7',\n",
       "              OrderedDict([('input_shape', [-1, 40, 8, 8]),\n",
       "                           ('output_shape', [-1, 80, 4, 4]),\n",
       "                           ('nb_params', 0)])),\n",
       "             ('Conv2d-8',\n",
       "              OrderedDict([('input_shape', [-1, 80, 4, 4]),\n",
       "                           ('output_shape', [-1, 160, 2, 2]),\n",
       "                           ('trainable', True),\n",
       "                           ('nb_params', tensor(115200))])),\n",
       "             ('BnLayer-9',\n",
       "              OrderedDict([('input_shape', [-1, 80, 4, 4]),\n",
       "                           ('output_shape', [-1, 160, 2, 2]),\n",
       "                           ('nb_params', 0)])),\n",
       "             ('Linear-10',\n",
       "              OrderedDict([('input_shape', [-1, 160]),\n",
       "                           ('output_shape', [-1, 10]),\n",
       "                           ('trainable', True),\n",
       "                           ('nb_params', tensor(1610))]))])"
      ]
     },
     "execution_count": 95,
     "metadata": {},
     "output_type": "execute_result"
    }
   ],
   "source": [
    "learn.summary()"
   ]
  },
  {
   "cell_type": "code",
   "execution_count": 59,
   "metadata": {},
   "outputs": [
    {
     "data": {
      "application/vnd.jupyter.widget-view+json": {
       "model_id": "dea1023cf8614da99f9d4c1b3473f461",
       "version_major": 2,
       "version_minor": 0
      },
      "text/plain": [
       "HBox(children=(IntProgress(value=0, description='Epoch', max=2, style=ProgressStyle(description_width='initial…"
      ]
     },
     "metadata": {},
     "output_type": "display_data"
    },
    {
     "name": "stdout",
     "output_type": "stream",
     "text": [
      "epoch      trn_loss   val_loss   accuracy                   \n",
      "    0      1.502649   1.451273   0.470556  \n",
      "    1      1.267142   1.260544   0.550222                   \n",
      "CPU times: user 1min 59s, sys: 5min 10s, total: 7min 9s\n",
      "Wall time: 1min 17s\n"
     ]
    },
    {
     "data": {
      "text/plain": [
       "[1.260543947643704, 0.5502222222752041]"
      ]
     },
     "execution_count": 59,
     "metadata": {},
     "output_type": "execute_result"
    }
   ],
   "source": [
    "%time learn.fit(3e-2, 2)"
   ]
  },
  {
   "cell_type": "code",
   "execution_count": 60,
   "metadata": {},
   "outputs": [
    {
     "data": {
      "application/vnd.jupyter.widget-view+json": {
       "model_id": "a0d0f159b9a14c68bf30fa4a1ca94f5b",
       "version_major": 2,
       "version_minor": 0
      },
      "text/plain": [
       "HBox(children=(IntProgress(value=0, description='Epoch', max=4, style=ProgressStyle(description_width='initial…"
      ]
     },
     "metadata": {},
     "output_type": "display_data"
    },
    {
     "name": "stdout",
     "output_type": "stream",
     "text": [
      "epoch      trn_loss   val_loss   accuracy                   \n",
      "    0      1.167528   1.063028   0.616444  \n",
      "    1      1.033353   0.944735   0.664667                   \n",
      "    2      0.963592   0.915481   0.673                       \n",
      "    3      0.88858    0.852658   0.699556                    \n",
      "CPU times: user 3min 58s, sys: 10min 20s, total: 14min 18s\n",
      "Wall time: 2min 34s\n"
     ]
    },
    {
     "data": {
      "text/plain": [
       "[0.8526578228208754, 0.6995555557145012]"
      ]
     },
     "execution_count": 60,
     "metadata": {},
     "output_type": "execute_result"
    }
   ],
   "source": [
    "%time learn.fit(1e-1, 4, cycle_len=1)"
   ]
  },
  {
   "cell_type": "markdown",
   "metadata": {},
   "source": [
    "## Deep BatchNorm"
   ]
  },
  {
   "cell_type": "markdown",
   "metadata": {},
   "source": [
    "same principle as batchnorm except now we will make the network deeper ie create more layers"
   ]
  },
  {
   "cell_type": "markdown",
   "metadata": {},
   "source": [
    "- A single convolutional layer was added at the start trying to get closer to the modern approaches. It has a bigger kernel size and a stride of 1. The basic idea is that we want the first layer to have a richer input. It does convolution using the 5 by 5 area which allows it to try and find more interesting richer features in that 5 by 5 area, then spit out bigger output (in this case, it’s 10 by 5 by 5 filters). Typically it is 5 by 5 or 7 by 7, or even 11 by 11 convolution with quite a few filters coming out (e.g. 32 filters).\n",
    "- Since padding = kernel_size — 1 / 2 and stride=1 , the input size is the same as the output size — just more filters.\n",
    "- It is a good way of trying to create a richer starting point."
   ]
  },
  {
   "cell_type": "markdown",
   "metadata": {},
   "source": [
    "Let’s increase the depth of the model. We cannot just add more of stride 2 layers since it halves the size of the image each time. Instead, after each stride 2 layer, we insert a stride 1 layer."
   ]
  },
  {
   "cell_type": "code",
   "execution_count": 98,
   "metadata": {},
   "outputs": [],
   "source": [
    "class ConvBnNet2(nn.Module):\n",
    "    def __init__(self, layers, c):\n",
    "        super().__init__()\n",
    "        self.conv1 = nn.Conv2d(3, 10, kernel_size=5, stride=1, padding=2)\n",
    "        # original stride 2 layers\n",
    "        self.layers = nn.ModuleList([BnLayer(layers[i], layers[i+1])\n",
    "            for i in range(len(layers) - 1)])\n",
    "        # for each stride 2 layer also create a stride 1 layer\n",
    "        self.layers2 = nn.ModuleList([BnLayer(layers[i+1], layers[i + 1], 1)\n",
    "            for i in range(len(layers) - 1)])\n",
    "        self.out = nn.Linear(layers[-1], c)\n",
    "        \n",
    "    def forward(self, x):\n",
    "        x = self.conv1(x)\n",
    "        # zip the stride 2 layers (layers) and stride 1 layers (layers2) together\n",
    "        for l,l2 in zip(self.layers, self.layers2):\n",
    "            # first do the stride 2 layer\n",
    "            x = l(x)\n",
    "            # then do the stride 1 layer\n",
    "            x = l2(x)\n",
    "            # now twice as deep\n",
    "        x = F.adaptive_max_pool2d(x, 1)\n",
    "        x = x.view(x.size(0), -1)\n",
    "        return F.log_softmax(self.out(x), dim=-1)"
   ]
  },
  {
   "cell_type": "code",
   "execution_count": 62,
   "metadata": {},
   "outputs": [],
   "source": [
    "learn = ConvLearner.from_model_data(ConvBnNet2([10, 20, 40, 80, 160], 10), data)"
   ]
  },
  {
   "cell_type": "code",
   "execution_count": 63,
   "metadata": {},
   "outputs": [
    {
     "data": {
      "application/vnd.jupyter.widget-view+json": {
       "model_id": "0635dc878d7f41aa88d17e9e15c8684f",
       "version_major": 2,
       "version_minor": 0
      },
      "text/plain": [
       "HBox(children=(IntProgress(value=0, description='Epoch', max=2, style=ProgressStyle(description_width='initial…"
      ]
     },
     "metadata": {},
     "output_type": "display_data"
    },
    {
     "name": "stdout",
     "output_type": "stream",
     "text": [
      "epoch      trn_loss   val_loss   accuracy                   \n",
      "    0      1.532272   1.418479   0.488333  \n",
      "    1      1.313417   1.238555   0.558                      \n",
      "CPU times: user 2min 18s, sys: 6min 10s, total: 8min 28s\n",
      "Wall time: 1min 21s\n"
     ]
    },
    {
     "data": {
      "text/plain": [
       "[1.2385551080173915, 0.5580000000529819]"
      ]
     },
     "execution_count": 63,
     "metadata": {},
     "output_type": "execute_result"
    }
   ],
   "source": [
    "%time learn.fit(1e-2, 2)"
   ]
  },
  {
   "cell_type": "code",
   "execution_count": 64,
   "metadata": {},
   "outputs": [
    {
     "data": {
      "application/vnd.jupyter.widget-view+json": {
       "model_id": "e4908304e39c4c0087b7fe3ab1f4efe1",
       "version_major": 2,
       "version_minor": 0
      },
      "text/plain": [
       "HBox(children=(IntProgress(value=0, description='Epoch', max=2, style=ProgressStyle(description_width='initial…"
      ]
     },
     "metadata": {},
     "output_type": "display_data"
    },
    {
     "name": "stdout",
     "output_type": "stream",
     "text": [
      "epoch      trn_loss   val_loss   accuracy                   \n",
      "    0      1.133104   1.085736   0.606333  \n",
      "    1      1.047426   0.995145   0.641                      \n",
      "CPU times: user 2min 19s, sys: 6min 13s, total: 8min 33s\n",
      "Wall time: 1min 22s\n"
     ]
    },
    {
     "data": {
      "text/plain": [
       "[0.995144789006975, 0.6410000001059638]"
      ]
     },
     "execution_count": 64,
     "metadata": {},
     "output_type": "execute_result"
    }
   ],
   "source": [
    "%time learn.fit(1e-2, 2, cycle_len=1)"
   ]
  },
  {
   "cell_type": "markdown",
   "metadata": {},
   "source": [
    "deep batchnorm does not help accuracy - this is because it is now 12 layers deep and does not help with accuracy"
   ]
  },
  {
   "cell_type": "markdown",
   "metadata": {},
   "source": [
    "The accuracy remained the same as before. This is now 12 layers deep, and it is too deep even for batch norm to handle. It is possible to train 12 layer deep conv net but it starts to get difficult. And it does not seem to be helping much if at all."
   ]
  },
  {
   "cell_type": "markdown",
   "metadata": {},
   "source": [
    "## Resnet"
   ]
  },
  {
   "cell_type": "markdown",
   "metadata": {},
   "source": [
    "now use Resnet with the same code and make the network even more deeper"
   ]
  },
  {
   "cell_type": "markdown",
   "metadata": {},
   "source": [
    "The difference y − x is residual. The residual is the error in terms of what we have calculated so far. What this is saying is that try to find a set of convolutional weights that attempts to fill in the amount we were off by. So in other words, we have an input, and we have a function which tries to predict the error (i.e. how much we are off by). Then we add a prediction of how much we were wrong by to the input, then add another prediction of how much we were wrong by that time, and repeat that layer after layer — zooming into the correct answer. This is based on a theory called boosting."
   ]
  },
  {
   "cell_type": "markdown",
   "metadata": {},
   "source": [
    "- y = x + f(x)\n",
    "- y = prediction\n",
    "- x = input\n",
    "- f(x) = function in this case a convolution\n",
    "\n",
    "- adding the error each time helps gradually get closer to the answer = based on theory of boosting(calculating a model on the residual"
   ]
  },
  {
   "cell_type": "markdown",
   "metadata": {},
   "source": [
    "ResnetLayer inherit from BnLayer and override forward.\n",
    "Then add bunch of layers and make it 3 times deeper, ad it still trains beautifully just because of x + super().forward(x) ."
   ]
  },
  {
   "cell_type": "markdown",
   "metadata": {},
   "source": [
    "Resnet block"
   ]
  },
  {
   "cell_type": "code",
   "execution_count": 65,
   "metadata": {},
   "outputs": [],
   "source": [
    "class ResnetLayer(BnLayer):\n",
    "    def forward(self, x): return x + super().forward(x)"
   ]
  },
  {
   "cell_type": "code",
   "execution_count": 66,
   "metadata": {},
   "outputs": [],
   "source": [
    "class Resnet(nn.Module):\n",
    "    def __init__(self, layers, c):\n",
    "        super().__init__()\n",
    "        self.conv1 = nn.Conv2d(3, 10, kernel_size=5, stride=1, padding=2)\n",
    "        self.layers = nn.ModuleList([BnLayer(layers[i], layers[i+1])\n",
    "            for i in range(len(layers) - 1)])\n",
    "        self.layers2 = nn.ModuleList([ResnetLayer(layers[i+1], layers[i + 1], 1)\n",
    "            for i in range(len(layers) - 1)])\n",
    "        self.layers3 = nn.ModuleList([ResnetLayer(layers[i+1], layers[i + 1], 1)\n",
    "            for i in range(len(layers) - 1)])\n",
    "        self.out = nn.Linear(layers[-1], c)\n",
    "        \n",
    "    def forward(self, x):\n",
    "        # first single conv layer\n",
    "        x = self.conv1(x)\n",
    "        # 3 stride layers\n",
    "        for l,l2,l3 in zip(self.layers, self.layers2, self.layers3):\n",
    "            x = l3(l2(l(x)))\n",
    "        x = F.adaptive_max_pool2d(x, 1)\n",
    "        x = x.view(x.size(0), -1)\n",
    "        return F.log_softmax(self.out(x), dim=-1)"
   ]
  },
  {
   "cell_type": "code",
   "execution_count": 67,
   "metadata": {},
   "outputs": [],
   "source": [
    "learn = ConvLearner.from_model_data(Resnet([10, 20, 40, 80, 160], 10), data)"
   ]
  },
  {
   "cell_type": "code",
   "execution_count": 68,
   "metadata": {},
   "outputs": [],
   "source": [
    "wd=1e-5"
   ]
  },
  {
   "cell_type": "code",
   "execution_count": 69,
   "metadata": {},
   "outputs": [
    {
     "data": {
      "application/vnd.jupyter.widget-view+json": {
       "model_id": "70aa60d2152e4f56b699062cf737e584",
       "version_major": 2,
       "version_minor": 0
      },
      "text/plain": [
       "HBox(children=(IntProgress(value=0, description='Epoch', max=2, style=ProgressStyle(description_width='initial…"
      ]
     },
     "metadata": {},
     "output_type": "display_data"
    },
    {
     "name": "stdout",
     "output_type": "stream",
     "text": [
      "epoch      trn_loss   val_loss   accuracy                   \n",
      "    0      1.497557   1.31957    0.519889  \n",
      "    1      1.273332   1.185235   0.582111                   \n",
      "CPU times: user 2min 5s, sys: 5min 50s, total: 7min 56s\n",
      "Wall time: 1min 17s\n"
     ]
    },
    {
     "data": {
      "text/plain": [
       "[1.1852351346545749, 0.582111111164093]"
      ]
     },
     "execution_count": 69,
     "metadata": {},
     "output_type": "execute_result"
    }
   ],
   "source": [
    "%time learn.fit(1e-2, 2, wds=wd)"
   ]
  },
  {
   "cell_type": "code",
   "execution_count": 70,
   "metadata": {},
   "outputs": [
    {
     "data": {
      "application/vnd.jupyter.widget-view+json": {
       "model_id": "e1cbdc6c0e184a04abdcac3f510df32c",
       "version_major": 2,
       "version_minor": 0
      },
      "text/plain": [
       "HBox(children=(IntProgress(value=0, description='Epoch', max=7, style=ProgressStyle(description_width='initial…"
      ]
     },
     "metadata": {},
     "output_type": "display_data"
    },
    {
     "name": "stdout",
     "output_type": "stream",
     "text": [
      "epoch      trn_loss   val_loss   accuracy                   \n",
      "    0      1.079892   1.009757   0.634222  \n",
      "    1      1.047448   0.968775   0.655667                   \n",
      "    2      0.910151   0.896966   0.680889                    \n",
      "    3      0.959859   0.928675   0.674889                    \n",
      "    4      0.863587   0.878581   0.690667                    \n",
      "    5      0.768295   0.77589    0.728667                    \n",
      "    6      0.719732   0.786317   0.722222                    \n",
      "CPU times: user 6min 33s, sys: 19min 29s, total: 26min 3s\n",
      "Wall time: 4min 3s\n"
     ]
    },
    {
     "data": {
      "text/plain": [
       "[0.7863174861801995, 0.722222222328186]"
      ]
     },
     "execution_count": 70,
     "metadata": {},
     "output_type": "execute_result"
    }
   ],
   "source": [
    "%time learn.fit(1e-2, 3, cycle_len=1, cycle_mult=2, wds=wd)"
   ]
  },
  {
   "cell_type": "code",
   "execution_count": 71,
   "metadata": {},
   "outputs": [
    {
     "data": {
      "application/vnd.jupyter.widget-view+json": {
       "model_id": "e0595607cd114e568d96452358d16e44",
       "version_major": 2,
       "version_minor": 0
      },
      "text/plain": [
       "HBox(children=(IntProgress(value=0, description='Epoch', max=32, style=ProgressStyle(description_width='initia…"
      ]
     },
     "metadata": {},
     "output_type": "display_data"
    },
    {
     "name": "stdout",
     "output_type": "stream",
     "text": [
      "epoch      trn_loss   val_loss   accuracy                    \n",
      "    0      0.82697    0.85475    0.700222  \n",
      "    1      0.746965   0.778547   0.726778                    \n",
      "    2      0.667454   0.732202   0.747889                    \n",
      "    3      0.631115   0.700966   0.755333                    \n",
      "    4      0.724746   0.765136   0.737889                    \n",
      "    5      0.641203   0.695164   0.754                       \n",
      "    6      0.582941   0.652956   0.771778                    \n",
      "    7      0.552689   0.654246   0.775444                    \n",
      "    8      0.663871   0.721612   0.749444                    \n",
      "    9      0.595996   0.672764   0.763222                    \n",
      "    10     0.526128   0.616274   0.783111                    \n",
      "    11     0.497974   0.619558   0.785444                    \n",
      "    12     0.590651   0.729133   0.751222                    \n",
      "    13     0.548064   0.62252    0.786889                    \n",
      "    14     0.490074   0.601273   0.790667                    \n",
      "    15     0.445175   0.591447   0.794111                    \n",
      "    16     0.551313   0.676422   0.770111                    \n",
      "    17     0.505043   0.610344   0.788667                    \n",
      "    18     0.443501   0.610715   0.793444                    \n",
      "    19     0.419269   0.587104   0.802111                    \n",
      "    20     0.514251   0.604361   0.791222                    \n",
      "    21     0.476793   0.585826   0.800556                    \n",
      "    22     0.41769    0.615377   0.798333                    \n",
      "    23     0.388651   0.566336   0.811222                    \n",
      "    24     0.491538   0.652932   0.778111                    \n",
      "    25     0.438696   0.603915   0.798333                    \n",
      "    26     0.381489   0.558191   0.810889                    \n",
      "    27     0.348939   0.544653   0.820444                    \n",
      "    28     0.454944   0.596312   0.803222                    \n",
      "    29     0.411631   0.548863   0.815889                    \n",
      "    30     0.351389   0.557107   0.810889                    \n",
      "    31     0.326556   0.550047   0.820889                    \n",
      "CPU times: user 29min 44s, sys: 1h 28min 22s, total: 1h 58min 7s\n",
      "Wall time: 18min 15s\n"
     ]
    },
    {
     "data": {
      "text/plain": [
       "[0.5500465137693618, 0.8208888889948527]"
      ]
     },
     "execution_count": 71,
     "metadata": {},
     "output_type": "execute_result"
    }
   ],
   "source": [
    "%time learn.fit(1e-2, 8, cycle_len=4, wds=wd)"
   ]
  },
  {
   "cell_type": "markdown",
   "metadata": {},
   "source": [
    "## Resnet 2"
   ]
  },
  {
   "cell_type": "code",
   "execution_count": 72,
   "metadata": {},
   "outputs": [],
   "source": [
    "class Resnet2(nn.Module):\n",
    "    def __init__(self, layers, c, p=0.5):\n",
    "        super().__init__()\n",
    "        self.conv1 = BnLayer(3, 16, stride=1, kernel_size=7)\n",
    "        self.layers = nn.ModuleList([BnLayer(layers[i], layers[i+1])\n",
    "            for i in range(len(layers) - 1)])\n",
    "        self.layers2 = nn.ModuleList([ResnetLayer(layers[i+1], layers[i + 1], 1)\n",
    "            for i in range(len(layers) - 1)])\n",
    "        self.layers3 = nn.ModuleList([ResnetLayer(layers[i+1], layers[i + 1], 1)\n",
    "            for i in range(len(layers) - 1)])\n",
    "        # added dropout\n",
    "        self.out = nn.Linear(layers[-1], c)\n",
    "        self.drop = nn.Dropout(p)\n",
    "        \n",
    "    def forward(self, x):\n",
    "        x = self.conv1(x)\n",
    "        for l,l2,l3 in zip(self.layers, self.layers2, self.layers3):\n",
    "            x = l3(l2(l(x)))\n",
    "        x = F.adaptive_max_pool2d(x, 1)\n",
    "        x = x.view(x.size(0), -1)\n",
    "        x = self.drop(x)\n",
    "        return F.log_softmax(self.out(x), dim=-1)"
   ]
  },
  {
   "cell_type": "code",
   "execution_count": 73,
   "metadata": {},
   "outputs": [],
   "source": [
    "# 0.2 - added droup out\n",
    "learn = ConvLearner.from_model_data(Resnet2([16, 32, 64, 128, 256], 10, 0.2), data)"
   ]
  },
  {
   "cell_type": "code",
   "execution_count": 74,
   "metadata": {},
   "outputs": [],
   "source": [
    "wd=1e-6"
   ]
  },
  {
   "cell_type": "code",
   "execution_count": 75,
   "metadata": {},
   "outputs": [
    {
     "data": {
      "application/vnd.jupyter.widget-view+json": {
       "model_id": "ea298d3905a04e1bb9f96ccd3fd4d7c3",
       "version_major": 2,
       "version_minor": 0
      },
      "text/plain": [
       "HBox(children=(IntProgress(value=0, description='Epoch', max=2, style=ProgressStyle(description_width='initial…"
      ]
     },
     "metadata": {},
     "output_type": "display_data"
    },
    {
     "name": "stdout",
     "output_type": "stream",
     "text": [
      "epoch      trn_loss   val_loss   accuracy                   \n",
      "    0      1.636014   1.434065   0.480667  \n",
      "    1      1.359488   1.256006   0.547111                   \n",
      "CPU times: user 1min 53s, sys: 5min 45s, total: 7min 39s\n",
      "Wall time: 1min 10s\n"
     ]
    },
    {
     "data": {
      "text/plain": [
       "[1.256005668428209, 0.547111111137602]"
      ]
     },
     "execution_count": 75,
     "metadata": {},
     "output_type": "execute_result"
    }
   ],
   "source": [
    "%time learn.fit(1e-2, 2, wds=wd)"
   ]
  },
  {
   "cell_type": "code",
   "execution_count": 76,
   "metadata": {},
   "outputs": [
    {
     "data": {
      "application/vnd.jupyter.widget-view+json": {
       "model_id": "41c77e7ef8854fd1a142d2a77817fff9",
       "version_major": 2,
       "version_minor": 0
      },
      "text/plain": [
       "HBox(children=(IntProgress(value=0, description='Epoch', max=7, style=ProgressStyle(description_width='initial…"
      ]
     },
     "metadata": {},
     "output_type": "display_data"
    },
    {
     "name": "stdout",
     "output_type": "stream",
     "text": [
      "epoch      trn_loss   val_loss   accuracy                   \n",
      "    0      1.16338    1.077386   0.618111  \n",
      "    1      1.116569   1.059844   0.622778                   \n",
      "    2      0.965542   0.950649   0.659556                    \n",
      "    3      1.03814    0.946406   0.657889                   \n",
      "    4      0.914405   0.851592   0.692222                    \n",
      "    5      0.821544   0.863057   0.699111                    \n",
      "    6      0.777043   0.785072   0.723                       \n",
      "CPU times: user 6min 40s, sys: 19min 54s, total: 26min 35s\n",
      "Wall time: 4min 7s\n"
     ]
    },
    {
     "data": {
      "text/plain": [
       "[0.785071922328737, 0.7230000000529819]"
      ]
     },
     "execution_count": 76,
     "metadata": {},
     "output_type": "execute_result"
    }
   ],
   "source": [
    "%time learn.fit(1e-2, 3, cycle_len=1, cycle_mult=2, wds=wd)"
   ]
  },
  {
   "cell_type": "code",
   "execution_count": 77,
   "metadata": {},
   "outputs": [
    {
     "data": {
      "application/vnd.jupyter.widget-view+json": {
       "model_id": "c593a17036e2435eb75feaeadc74e06c",
       "version_major": 2,
       "version_minor": 0
      },
      "text/plain": [
       "HBox(children=(IntProgress(value=0, description='Epoch', max=32, style=ProgressStyle(description_width='initia…"
      ]
     },
     "metadata": {},
     "output_type": "display_data"
    },
    {
     "name": "stdout",
     "output_type": "stream",
     "text": [
      "epoch      trn_loss   val_loss   accuracy                    \n",
      "    0      0.884306   0.938338   0.677444  \n",
      "    1      0.80616    0.742097   0.736333                    \n",
      "    2      0.707674   0.69443    0.757111                    \n",
      "    3      0.658781   0.714373   0.749                       \n",
      "    4      0.782491   0.740706   0.744444                    \n",
      "    5      0.688487   0.708014   0.754444                    \n",
      "    6      0.622026   0.653085   0.764444                    \n",
      "    7      0.576632   0.65647    0.773667                    \n",
      "    8      0.69761    0.716219   0.750556                    \n",
      "    9      0.626429   0.680485   0.773333                    \n",
      "    10     0.549294   0.616926   0.789333                    \n",
      "    11     0.51127    0.566468   0.800556                    \n",
      "    12     0.640426   0.684215   0.765111                    \n",
      "    13     0.555989   0.63406    0.786111                    \n",
      "    14     0.50187    0.584255   0.802889                    \n",
      "    15     0.471804   0.591004   0.801333                    \n",
      "    16     0.572985   0.618866   0.789667                    \n",
      "    17     0.52517    0.594673   0.795556                    \n",
      "    18     0.461477   0.565226   0.810889                    \n",
      "    19     0.427073   0.529649   0.819778                    \n",
      "    20     0.524899   0.613755   0.795889                    \n",
      "    21     0.480433   0.608275   0.798444                    \n",
      "    22     0.428241   0.527378   0.823222                    \n",
      "    23     0.381524   0.535468   0.822889                    \n",
      "    24     0.504179   0.588599   0.803889                    \n",
      "    25     0.450514   0.572451   0.813444                    \n",
      "    26     0.399897   0.526204   0.829333                    \n",
      "    27     0.361343   0.513335   0.827333                    \n",
      "    28     0.469852   0.607377   0.799                       \n",
      "    29     0.418216   0.585587   0.811                       \n",
      "    30     0.36297    0.530003   0.825111                    \n",
      "    31     0.327503   0.519424   0.830889                    \n",
      "CPU times: user 30min 24s, sys: 1h 30min 48s, total: 2h 1min 12s\n",
      "Wall time: 18min 48s\n"
     ]
    },
    {
     "data": {
      "text/plain": [
       "[0.5194243094126384, 0.8308888888888889]"
      ]
     },
     "execution_count": 77,
     "metadata": {},
     "output_type": "execute_result"
    }
   ],
   "source": [
    "%time learn.fit(1e-2, 8, cycle_len=4, wds=wd)"
   ]
  },
  {
   "cell_type": "code",
   "execution_count": 78,
   "metadata": {},
   "outputs": [],
   "source": [
    "learn.save('tmp3')"
   ]
  },
  {
   "cell_type": "code",
   "execution_count": 79,
   "metadata": {},
   "outputs": [
    {
     "name": "stdout",
     "output_type": "stream",
     "text": [
      "                                             \r"
     ]
    }
   ],
   "source": [
    "log_preds,y = learn.TTA()\n",
    "preds = np.mean(np.exp(log_preds),0)"
   ]
  },
  {
   "cell_type": "code",
   "execution_count": 81,
   "metadata": {},
   "outputs": [],
   "source": [
    "#metrics.log_loss(y,preds), accuracy_np(preds,y)"
   ]
  },
  {
   "cell_type": "markdown",
   "metadata": {},
   "source": [
    "### End"
   ]
  },
  {
   "cell_type": "code",
   "execution_count": null,
   "metadata": {},
   "outputs": [],
   "source": []
  }
 ],
 "metadata": {
  "kernelspec": {
   "display_name": "Python 3",
   "language": "python",
   "name": "python3"
  },
  "language_info": {
   "codemirror_mode": {
    "name": "ipython",
    "version": 3
   },
   "file_extension": ".py",
   "mimetype": "text/x-python",
   "name": "python",
   "nbconvert_exporter": "python",
   "pygments_lexer": "ipython3",
   "version": "3.7.1"
  }
 },
 "nbformat": 4,
 "nbformat_minor": 2
}
